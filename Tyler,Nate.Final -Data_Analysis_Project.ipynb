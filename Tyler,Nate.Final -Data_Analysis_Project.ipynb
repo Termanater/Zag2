{
 "cells": [
  {
   "cell_type": "markdown",
   "id": "0bb18b2e",
   "metadata": {},
   "source": [
    "\n",
    "# Data Analysis Project\n",
    "\n",
    "**Students Names:** Nate Tyler <br>\n",
    "**Course Name:** MSBA 601\n",
    "<br>\n",
    "**Date:** 4/29/25 <br>\n",
    "\n",
    "---\n",
    "\n",
    "### Project Overview\n",
    "\n",
    "In this project, you will work in a team of two and utilize what we have learned in this class to preform an analysis on a dataset. \n",
    "\n",
    "The data you choose is up to you! I encourage you to select a dataset that fits your area of expertise. Some of the resources for datasets are listed below. Note that these are just resources I've used in the past. You are not limited to these resources, but it's a place to start.<br>\n",
    "    <br>\n",
    "    - [kaggle](https://www.kaggle.com/datasets)<br>\n",
    "    - [data.gov](https://data.gov/)<br>\n",
    "    - [google datasets](https://datasetsearch.research.google.com/)<br>\n",
    "    - [SEC datasets](https://www.sec.gov/data-research/sec-markets-data/financial-statement-data-sets)<br>\n",
    "    - [dataquest](https://www.dataquest.io/blog/free-datasets-for-projects/)<br>\n",
    "\n",
    "Your dataset must have at LEAST 10,000 rows of data. Additionally, it should have enough attributes to allow for a meaningful analysis and level of complexity (e.g., a dataset with just two columns for \"name\" and \"birthdate\" likely is not going to be enough.)\n",
    "\n",
    "Once you have selected a dataset, you will be required to perform an analysis\n",
    "\n",
    " with a large dataset of at least 10,000 rows. The goal is to:\n",
    "- Import and explore the dataset.\n",
    "- Clean and prepare the data for analysis.\n",
    "- Derive at least 6 key insights from the data using Python and Python libraries. You are welcome to add more coding blocks and more insights. \n",
    "- Communicate these insights clearly, professionally, and explain how they can inform decision-making.\n",
    "\n",
    "---\n",
    "\n",
    "If you and your group want to utilize the power of Github and use branches, here is the [documentation](https://docs.github.com/en/pull-requests/collaborating-with-pull-requests/proposing-changes-to-your-work-with-pull-requests/about-branches) on how to do so.\n",
    "\n",
    "The cells below are a guide. Feel free to add code or markdown cells as necessary. "
   ]
  },
  {
   "cell_type": "markdown",
   "id": "2fb24ed6",
   "metadata": {},
   "source": [
    "## 1. Importing Necessary Libraries"
   ]
  },
  {
   "cell_type": "code",
   "execution_count": 339,
   "id": "f3066431",
   "metadata": {},
   "outputs": [],
   "source": [
    "# Code block to import libraries\n",
    "import pandas as pd\n",
    "import numpy as np\n",
    "import seaborn as sns\n",
    "import matplotlib.pyplot as plt\n",
    "import statistics as stats\n"
   ]
  },
  {
   "cell_type": "markdown",
   "id": "afdc46e7",
   "metadata": {},
   "source": [
    "\n",
    "## 2. Loading the Dataset\n",
    "\n",
    "Load your dataset here. Make sure the dataset has at least 10,000 rows.\n"
   ]
  },
  {
   "cell_type": "code",
   "execution_count": 340,
   "id": "cbb1ac66",
   "metadata": {},
   "outputs": [],
   "source": [
    "# Code block to load the dataset\n",
    "df = pd.read_csv('HopitalProviderCostReport_2022_FinalProject.csv')\n"
   ]
  },
  {
   "cell_type": "markdown",
   "id": "b78ea3b0",
   "metadata": {},
   "source": [
    "\n",
    "## 3. Data Exploration\n",
    "\n",
    "Explore the dataset by checking its dimensions, data types, and any missing values.\n"
   ]
  },
  {
   "cell_type": "code",
   "execution_count": 341,
   "id": "5b8b0a6c",
   "metadata": {},
   "outputs": [
    {
     "name": "stdout",
     "output_type": "stream",
     "text": [
      "Data Set Info:\n",
      "Initial Dataset Shape: (6064, 117)\n",
      "<class 'pandas.core.frame.DataFrame'>\n",
      "RangeIndex: 6064 entries, 0 to 6063\n",
      "Columns: 117 entries, rpt_rec_num to Stand-Alone CHIP Charges\n",
      "dtypes: float64(103), int64(4), object(10)\n",
      "memory usage: 5.4+ MB\n",
      "Total number of null values in the dataset: 205738\n",
      "\n",
      "Null counts per column:\n",
      "rpt_rec_num                             0\n",
      "Provider CCN                            0\n",
      "Hospital Name                           0\n",
      "Street Address                          3\n",
      "City                                    0\n",
      "                                     ... \n",
      "Cost To Charge Ratio                 1464\n",
      "Net Revenue from Medicaid            1679\n",
      "Medicaid Charges                     1691\n",
      "Net Revenue from Stand-Alone CHIP    5078\n",
      "Stand-Alone CHIP Charges             5058\n",
      "Length: 117, dtype: int64\n",
      "Percent of Nulls in data sheet: 0.29\n"
     ]
    }
   ],
   "source": [
    "# Code block for data exploration\n",
    "print('Data Set Info:')\n",
    "#print(df.head()) #Shows 5 rows \n",
    "\n",
    "#This gives me the shape of the data set and shows the null values. How many & where they're located. \n",
    "print(f\"Initial Dataset Shape: {df.shape}\") #Shows me I have 6,064 rows and 117 Colunns \n",
    "df.info()\n",
    "# Calculate total nulls\n",
    "total_nulls = df.isnull().sum().sum()\n",
    "\n",
    "print(f\"Total number of null values in the dataset: {total_nulls}\") #I have 205,738 Null values accrossed the whole sheet\n",
    "\n",
    "#nulls per column \n",
    "print(\"\\nNull counts per column:\")\n",
    "print(df.isnull().sum())\n",
    "\n",
    "#Show what percent of the sheet is null values\n",
    "null_percent = total_nulls/ (6064*117)\n",
    "print(f'Percent of Nulls in data sheet: {null_percent:.2f}')\n",
    "\n",
    "#There are nearly all the types of data types present in this data set. We have Floats, Integers and objects \n",
    "#print(df.head())\n",
    "\n",
    "\n",
    "# use medians by network or provider "
   ]
  },
  {
   "cell_type": "markdown",
   "id": "5b434659",
   "metadata": {},
   "source": [
    "\n",
    "**Guiding Questions:**\n",
    "- What columns are available in the data?\n",
    "- Are there any columns with missing values?\n",
    "- What data types are present?\n"
   ]
  },
  {
   "cell_type": "markdown",
   "id": "2fc4974d",
   "metadata": {},
   "source": [
    "\n",
    "## 4. Data Cleaning/Engineering\n",
    "\n",
    "Clean the data to ensure consistency and handle any missing values or outliers. Also use this space to add attributes that bolster your analysis. \n"
   ]
  },
  {
   "cell_type": "code",
   "execution_count": 342,
   "id": "2ff17c2b",
   "metadata": {},
   "outputs": [
    {
     "name": "stdout",
     "output_type": "stream",
     "text": [
      "\n",
      "Counts for Total vs. Rural/Urban:\n",
      "Total Hospitals: 6,064\n",
      "Rural Hospitals: 2,601\n",
      "Urban Hospitals: 3,380\n",
      "Unknown/ Not reported Hospitals: 83\n",
      "\n",
      "Counts by CCN Facility Type:\n",
      "Short-term (General and Specialty) Hospitals: 3,240\n",
      "Critical Access Hospitals: 1,368\n",
      "Psychiatric Hospitals: 632\n",
      "Rehabilitation Hospitals: 369\n",
      "Long-Term Care Hospitals: 343\n",
      "Children’s Hospitals: 94\n",
      "Religious Non-medical Health Care Institutions: 10\n",
      "Hospitals participating in operating room demonstration project: 8\n",
      "\n",
      "Counts by State Codes:\n",
      "TX: 577\n",
      "CA: 408\n",
      "FL: 259\n",
      "OH: 231\n",
      "PA: 220\n",
      "LA: 209\n",
      "IL: 204\n",
      "NY: 191\n",
      "IN: 169\n",
      "GA: 163\n",
      "MI: 161\n",
      "WI: 150\n",
      "KS: 150\n",
      "OK: 147\n",
      "MN: 140\n",
      "TN: 138\n",
      "MO: 135\n",
      "NC: 131\n",
      "AZ: 127\n",
      "IA: 123\n",
      "KY: 116\n",
      "AL: 112\n",
      "CO: 110\n",
      "MS: 110\n",
      "VA: 108\n",
      "AR: 107\n",
      "WA: 105\n",
      "MA: 99\n",
      "NJ: 96\n",
      "NE: 95\n",
      "SC: 83\n",
      "MT: 64\n",
      "PR: 63\n",
      "SD: 62\n",
      "WV: 62\n",
      "OR: 62\n",
      "MD: 58\n",
      "UT: 58\n",
      "NV: 57\n",
      "NM: 55\n",
      "ID: 51\n",
      "ND: 50\n",
      "CT: 39\n",
      "ME: 38\n",
      "NH: 31\n",
      "WY: 29\n",
      "HI: 26\n",
      "AK: 24\n",
      "VT: 16\n",
      "DE: 14\n",
      "RI: 14\n",
      "DC: 12\n",
      "GU: 2\n",
      "VI: 2\n",
      "MP: 1\n"
     ]
    }
   ],
   "source": [
    "# Code block for data cleaning/engineering\n",
    "# Fix Categorical Data/nulls\n",
    "categorical_data = ['Rural Versus Urban', 'State Code', 'CCN Facility Type']\n",
    "for col in categorical_data:\n",
    "    df[col] = df[col].fillna('Unknown')  # Fill missing categorical values with 'Unknown'\n",
    "    df[col] = df[col].astype(str)  # Convert to string\n",
    "\n",
    "\n",
    "# Clean and fill numeric data with medians\n",
    "numeric_data = ['Total Costs', 'Net Income', 'Total Salaries From Worksheet A', 'Cost of Charity Care', 'Number of Beds', 'FTE - Employees on Payroll']\n",
    "for col in numeric_data:\n",
    "    df[col] = pd.to_numeric(df[col], errors='coerce')  # Convert to numeric, non-numeric to NaN\n",
    "    df[col] = df[col].fillna(df[col].median())  # Fill NaN with median\n",
    "\n",
    "\n",
    "# Replace zero values in Total Costs and Number of Beds with medians \n",
    "df['Total Costs'] = df['Total Costs'].replace(0, df['Total Costs'].median())\n",
    "df['Number of Beds'] = df['Number of Beds'].replace(0, df['Number of Beds'].median())\n",
    "\n",
    "\n",
    "# Facility type code to full name for readability \n",
    "facility_type = {\n",
    "    'STH': 'Short-term (General and Specialty) Hospitals',\n",
    "    'CAH': 'Critical Access Hospitals',\n",
    "    'PH': 'Psychiatric Hospitals',\n",
    "    'RH': 'Rehabilitation Hospitals',\n",
    "    'LTCH': 'Long-Term Care Hospitals',\n",
    "    'CH': 'Children’s Hospitals',\n",
    "    'RNMHC': 'Religious Non-medical Health Care Institutions',\n",
    "    'ORD': 'Hospitals participating in operating room demonstration project'\n",
    "}\n",
    "df['CCN Facility Type'] = df['CCN Facility Type'].map(facility_type).fillna(df['CCN Facility Type'])\n",
    "\n",
    "\n",
    "# 1. Cost per Bed\n",
    "df['Cost per Bed'] = df['Total Costs'] / df['Number of Beds']\n",
    "df['Cost per Bed'] = df['Cost per Bed'].replace([np.inf, -np.inf], np.nan)\n",
    "df['Cost per Bed'] = df['Cost per Bed'].fillna(df['Cost per Bed'].median())\n",
    "\n",
    "\n",
    "# 2. Charity Care as % of Total Costs\n",
    "df['Charity Care % of Total Costs'] = (df['Cost of Charity Care'] / df['Total Costs']) * 100\n",
    "df['Charity Care % of Total Costs'] = df['Charity Care % of Total Costs'].replace([np.inf, -np.inf], np.nan)\n",
    "df['Charity Care % of Total Costs'] = df['Charity Care % of Total Costs'].fillna(df['Charity Care % of Total Costs'].median())\n",
    "\n",
    "\n",
    "# 3. Net Income Margin\n",
    "df['Net Income Margin'] = (df['Net Income'] / df['Total Costs']) * 100\n",
    "df['Net Income Margin'] = df['Net Income Margin'].replace([np.inf, -np.inf], np.nan)\n",
    "df['Net Income Margin'] = df['Net Income Margin'].fillna(df['Net Income Margin'].median())\n",
    "\n",
    "\n",
    "# 4. Calculate Net Income per Bed\n",
    "df['Net Income per Bed'] = df['Net Income'] / df['Number of Beds']\n",
    "df['Net Income per Bed'] = df['Net Income per Bed'].replace([np.inf, -np.inf], np.nan)\n",
    "df['Net Income per Bed'] = df['Net Income per Bed'].fillna(df['Net Income per Bed'].median())\n",
    "\n",
    "\n",
    "# Print counts for verification\n",
    "total_count = len(df)\n",
    "rural_count = (df['Rural Versus Urban'] == 'R').sum()\n",
    "urban_count = (df['Rural Versus Urban'] == 'U').sum()\n",
    "unknown_count = (df['Rural Versus Urban'] == 'Unknown').sum()\n",
    "print(\"\\nCounts for Total vs. Rural/Urban:\")\n",
    "print(f\"Total Hospitals: {total_count:,}\")\n",
    "print(f\"Rural Hospitals: {rural_count:,}\")\n",
    "print(f\"Urban Hospitals: {urban_count:,}\")\n",
    "print(f'Unknown/ Not reported Hospitals: {unknown_count:,}')\n",
    "\n",
    "\n",
    "ccn_count = df['CCN Facility Type'].value_counts()\n",
    "print(\"\\nCounts by CCN Facility Type:\")\n",
    "for facility_type, count in ccn_count.items():\n",
    "    print(f\"{facility_type}: {count:,}\")\n",
    "\n",
    "\n",
    "state_counts = df['State Code'].value_counts()\n",
    "print('\\nCounts by State Codes:')\n",
    "for state, count in state_counts.items():\n",
    "    print(f'{state}: {count:,}')\n",
    "\n",
    "\n",
    "#I chose to engineer the data set to have these metrics because cost per bed and net income margin are both commonly used metrics to track how efficent a hospital is.\n",
    "#I also chose to have the charity cost as a % of total costs becuse if a hospital is providing a lot of charity work, obviously they will not be recognizing what would otherwise\n",
    "#Be income. This would skew our analysis. \n",
    "# Typically, if a hospital/region has high net income margin and low cost per bed, it's efficient and profitable.\n",
    "#If both net income margin is low and cost per bed is high, that's a sign for potenital inefficiencies, overstaffing, underutilization, or financial mismanagement.\n"
   ]
  },
  {
   "cell_type": "markdown",
   "id": "91aae287",
   "metadata": {},
   "source": [
    "\n",
    "**Instructions:**\n",
    "- Describe each cleaning step you take.\n",
    "- Add any other attributes to improve your analysis. \n",
    "- Explain how these changes will improve the analysis.\n"
   ]
  },
  {
   "cell_type": "markdown",
   "id": "b856705c",
   "metadata": {},
   "source": [
    "\n",
    "## 5. Data Visualization\n",
    "\n",
    "Use visualization to better understand the data and spot trends. Include at least two visualizations.\n"
   ]
  },
  {
   "cell_type": "code",
   "execution_count": 343,
   "id": "80e08531",
   "metadata": {},
   "outputs": [
    {
     "data": {
      "image/png": "[encoded data removed]",
      "text/plain": [
       "<Figure size 800x600 with 1 Axes>"
      ]
     },
     "metadata": {},
     "output_type": "display_data"
    },
    {
     "data": {
      "image/png": "[encoded data removed]",
      "text/plain": [
       "<Figure size 800x600 with 1 Axes>"
      ]
     },
     "metadata": {},
     "output_type": "display_data"
    }
   ],
   "source": [
    "## Net Income Margin by Rural vs. Urban\n",
    "margin_rural_urban = df.groupby('Rural Versus Urban')['Net Income Margin'].mean().round(2)\n",
    "plt.figure(figsize=(8, 6))\n",
    "plt.bar(margin_rural_urban.index, margin_rural_urban)\n",
    "plt.title('Average Net Income Margin by Rural vs. Urban')\n",
    "plt.xlabel('Rural vs. Urban')\n",
    "plt.ylabel('Net Income Margin (%)')\n",
    "plt.tight_layout()\n",
    "plt.show()\n",
    "\n",
    "# Cost per Bed by Rural vs. Urban (in hundreds of thousands)\n",
    "cost_per_bed_rural_urban = (df.groupby('Rural Versus Urban')['Cost per Bed'].mean() / 100_000).round(2)\n",
    "plt.figure(figsize=(8, 6))\n",
    "plt.bar(cost_per_bed_rural_urban.index, cost_per_bed_rural_urban)\n",
    "plt.title('Average Cost per Bed by Rural vs. Urban')\n",
    "plt.xlabel('Rural vs. Urban')\n",
    "plt.ylabel('Average Cost per Bed (Hundreds of Thousands $)')\n",
    "plt.tight_layout()\n",
    "plt.show()"
   ]
  },
  {
   "cell_type": "code",
   "execution_count": 344,
   "id": "1baa1222",
   "metadata": {},
   "outputs": [
    {
     "data": {
      "image/png": "[encoded data removed]",
      "text/plain": [
       "<Figure size 800x600 with 1 Axes>"
      ]
     },
     "metadata": {},
     "output_type": "display_data"
    }
   ],
   "source": [
    "# Charity Care % of Total Costs by Rural vs. Urban\n",
    "charity_pct_rural_urban = df.groupby('Rural Versus Urban')['Charity Care % of Total Costs'].mean().round(2)\n",
    "plt.figure(figsize=(8, 6))\n",
    "plt.bar(charity_pct_rural_urban.index, charity_pct_rural_urban)\n",
    "plt.title('Average Charity Care % of Total Costs by Rural vs. Urban')\n",
    "plt.xlabel('Rural vs. Urban')\n",
    "plt.ylabel('Charity Care % of Total Costs (%)')\n",
    "plt.tight_layout()\n",
    "plt.show()"
   ]
  },
  {
   "cell_type": "markdown",
   "id": "c4d36bed",
   "metadata": {},
   "source": [
    "\n",
    "**Guiding Questions:**\n",
    "- What patterns do you see?\n",
    "- How can these patterns contribute to further insights?\n",
    "\n",
    "***Patterns and Insights requiring further analysis***<br>\n",
    "A pattern I see is that the Urban hospitals on average are more efficient and charitable. This can be further investigated to find out WHY they are more profitable. The above charts show that the Urban hospitals have a profit margin between 1& and 1.25%, while Rural hospitals have a net loss margin of about 0.5% (or net profit margin of -0.5%) in 2022. Contrasting this against cost per bed and charitable care as a % of total costs, shows us that the rural hospitals, on average are not as efficient. This can be for many different reasons that could be investigated further. Is it because of access to resources? Economies of scale? or that specialized (and typically more expensive care) is typically located in urban areas?\n"
   ]
  },
  {
   "cell_type": "markdown",
   "id": "928959d5",
   "metadata": {},
   "source": [
    "\n",
    "## 6. Deriving Insights\n",
    "\n",
    "In this section, derive six insights from the data. Each insight should have:\n",
    "- A brief description of what you are examining.\n",
    "- The code used to calculate or visualize it.\n",
    "- A short analysis of the results and how they contribute to understanding the data.\n",
    "- Visuals can be used to aid your insights as well."
   ]
  },
  {
   "cell_type": "markdown",
   "id": "27e099e9",
   "metadata": {},
   "source": [
    "\n",
    "### Insight 1\n",
    "\n",
    "**Insight Description: I want to see on average, what is the cost per bed daily and annually in both Rural and urban areas in $USD** <br>\n",
    "\n",
    "**Analysis:** _This will allow us to see the average cost per bed as incurred by the hospital based on region. This is helpful to see the specific average cost per region. This could be used by management for benchmarking and later comparitive analysis. (It they want to implement a new system or process, these could be baselines)_<br>\n"
   ]
  },
  {
   "cell_type": "code",
   "execution_count": 345,
   "id": "4e9f9447",
   "metadata": {},
   "outputs": [
    {
     "name": "stdout",
     "output_type": "stream",
     "text": [
      "\n",
      "Average Cost per Bed (USD):\n",
      "Rural: Hospital cost per year $1,431,894.89\n",
      "Urban: Hospital cost per year $1,165,315.14\n",
      "\n",
      "Average Cost per Bed per Day (USD):\n",
      "Rural: $3,923.00\n",
      "Urban: $3,192.64\n"
     ]
    }
   ],
   "source": [
    "# Calculate average cost per bed by Rural vs. Urban\n",
    "avg_cost_per_bed = df.groupby('Rural Versus Urban')['Cost per Bed'].mean()\n",
    "\n",
    "# Print results as USD\n",
    "print(\"\\nAverage Cost per Bed (USD):\")\n",
    "for area, cost in avg_cost_per_bed.items():\n",
    "    if area in ['R', 'U']:  # Exclude the unknowns\n",
    "        area_name = 'Rural' if area == 'R' else 'Urban'\n",
    "        print(f\"{area_name}: Hospital cost per year ${cost:,.2f}\")\n",
    "\n",
    "# Calculate cost per bed per day\n",
    "\n",
    "df['Cost per Bed per Day'] = df['Cost per Bed'] / 365\n",
    "\n",
    "# Calculate average cost per bed per day by Rural vs. Urban\n",
    "avg_cost_per_bed_day = df.groupby('Rural Versus Urban')['Cost per Bed per Day'].mean()\n",
    "\n",
    "# Print as USD\n",
    "print(\"\\nAverage Cost per Bed per Day (USD):\")\n",
    "for area, cost in avg_cost_per_bed_day.items():\n",
    "    if area in ['R', 'U']:  # Exclude the unknowns \n",
    "        area_name = 'Rural' if area == 'R' else 'Urban'\n",
    "        print(f\"{area_name}: ${cost:,.2f}\")"
   ]
  },
  {
   "cell_type": "markdown",
   "id": "aaf16dd1",
   "metadata": {},
   "source": [
    "\n",
    "### Insight 2\n",
    "\n",
    "**Insight Description: Net income per bed; daily and annually by region**<br>\n",
    "\n",
    " Since we now know what the bed is costing the hospitals per day and per year, it is helpful to see what theyre netting per day and per year, I chose net on this instead of total income because without normalizing the services offered (heart surgeons make more than family care doctors, but also perform higher value services) or breaking it down by Hospital size or funding it would be nearly impossible to determine the true financial efficiency._ <br>\n",
    "**Analysis:** _Again, much like the last one I think this is a valuable metric to understand overall profitability, efficiency and can be used as a comparative benchmark by management._<br>\n"
   ]
  },
  {
   "cell_type": "code",
   "execution_count": 346,
   "id": "5dc1b35a",
   "metadata": {},
   "outputs": [
    {
     "name": "stdout",
     "output_type": "stream",
     "text": [
      "\n",
      "Average Net Income per Bed (USD):\n",
      "Rural: $-19,483.39\n",
      "Urban: $33,811.36\n",
      "\n",
      "Average Net Income per Bed per Day (USD):\n",
      "Rural: $-53.38\n",
      "Urban: $92.63\n"
     ]
    }
   ],
   "source": [
    "# Calculate average Net Income per Bed by Rural vs. Urban\n",
    "avg_net_income_per_bed = df.groupby('Rural Versus Urban')['Net Income per Bed'].mean()\n",
    "\n",
    "# Print results formatted as USD\n",
    "print(\"\\nAverage Net Income per Bed (USD):\")\n",
    "for area, income in avg_net_income_per_bed.items():\n",
    "    if area in ['R', 'U']:  # Only show Rural (R) and Urban (U)\n",
    "        area_name = 'Rural' if area == 'R' else 'Urban'\n",
    "        print(f\"{area_name}: ${income:,.2f}\")\n",
    "\n",
    "# Calculate Net Income per Bed per Day\n",
    "df['Net Income per Bed per Day'] = df['Net Income per Bed'] / 365\n",
    "\n",
    "# Calculate average Net Income per Bed per Day by Rural vs. Urban\n",
    "avg_net_income_per_bed_day = df.groupby('Rural Versus Urban')['Net Income per Bed per Day'].mean()\n",
    "\n",
    "# Print results formatted as USD\n",
    "print(\"\\nAverage Net Income per Bed per Day (USD):\")\n",
    "for area, income in avg_net_income_per_bed_day.items():\n",
    "    if area in ['R', 'U']:  # Only show Rural (R) and Urban (U)\n",
    "        area_name = 'Rural' if area == 'R' else 'Urban'\n",
    "        print(f\"{area_name}: ${income:,.2f}\")"
   ]
  },
  {
   "cell_type": "markdown",
   "id": "8a69d860",
   "metadata": {},
   "source": [
    "\n",
    "### Insight 3\n",
    "\n",
    "**Insight Description: Net income margin as a percent and in terms of annual net income  ($USD)**<br>\n",
    "\n",
    "**Analysis:** _This shows us which hospital types are the most profitable in terms of profit margin and Annual net income in $USD. Typically, major hospitals are ran as a medical group or a network. So understanding which hospitals are your money makers and which are not typically as profitable can help upper managment guide strategic investments into certian care facilites to ofset overall loss. Operating in this space is often a balance of Philanthropy and meeting shareholder expectations._<br>"
   ]
  },
  {
   "cell_type": "code",
   "execution_count": 347,
   "id": "2dce6a7f",
   "metadata": {},
   "outputs": [
    {
     "name": "stdout",
     "output_type": "stream",
     "text": [
      "\n",
      "Average Net Income Margin by CCN Facility Type (%):\n",
      "Children’s Hospitals: 7.07%\n",
      "Critical Access Hospitals: 2.28%\n",
      "Hospitals participating in operating room demonstration project: 30.94%\n",
      "Long-Term Care Hospitals: -3.00%\n",
      "Psychiatric Hospitals: -16.28%\n",
      "Rehabilitation Hospitals: 12.04%\n",
      "Religious Non-medical Health Care Institutions: -23.17%\n",
      "Short-term (General and Specialty) Hospitals: 1.73%\n",
      "\n",
      "Average Net Income by CCN Facility Type (USD):\n",
      "Children’s Hospitals: $48,234,762.55\n",
      "Critical Access Hospitals: $647,495.32\n",
      "Hospitals participating in operating room demonstration project: $23,563,691.12\n",
      "Long-Term Care Hospitals: $-1,926,571.20\n",
      "Psychiatric Hospitals: $-10,577,950.99\n",
      "Rehabilitation Hospitals: $3,071,513.44\n",
      "Religious Non-medical Health Care Institutions: $-1,099,234.80\n",
      "Short-term (General and Specialty) Hospitals: $13,334,955.98\n"
     ]
    }
   ],
   "source": [
    "#Calculate average Net Income Margin by CCN Facility Type\n",
    "avg_net_income_margin = df.groupby('CCN Facility Type')['Net Income Margin'].mean()\n",
    "\n",
    "# Print results formatted as percentage\n",
    "print(\"\\nAverage Net Income Margin by CCN Facility Type (%):\")\n",
    "for facility_type, margin in avg_net_income_margin.items():\n",
    "    print(f\"{facility_type}: {margin:.2f}%\")\n",
    "\n",
    "# Calculate average Net Income by CCN Facility Type\n",
    "avg_net_income = df.groupby('CCN Facility Type')['Net Income'].mean()\n",
    "\n",
    "# Print results formatted as USD\n",
    "print(\"\\nAverage Net Income by CCN Facility Type (USD):\")\n",
    "for facility_type, income in avg_net_income.items():\n",
    "    print(f\"{facility_type}: ${income:,.2f}\")"
   ]
  },
  {
   "cell_type": "markdown",
   "id": "d8a11eaa",
   "metadata": {},
   "source": [
    "\n",
    "### Insight 4\n",
    "\n",
    "**Insight Description: Net income per bed per night by facility type.** <br>\n",
    "\n",
    "**Analysis:** _This can be used to find issues on a more macro level. If management were looking at one specific hospital, they could compare and contrast them with the national averages and see if that particlular hospital is under or over performing for this current year. This is important as it eliminates regional or specific economic pressures. Without the data being broken out it shows us the overall health of the system as a whole, which could be compared to one practice. This can be particularly helpful when looking at billing structures to insurance or the private parties. This data can allow the hospitals to negotiate their rates and make sure they're billing properly_<br>"
   ]
  },
  {
   "cell_type": "code",
   "execution_count": 348,
   "id": "826110a1",
   "metadata": {},
   "outputs": [
    {
     "name": "stdout",
     "output_type": "stream",
     "text": [
      "\n",
      "Average Net Income per Bed per Night by CCN Facility Type (USD):\n",
      "Children’s Hospitals: $448.67\n",
      "Critical Access Hospitals: $31.31\n",
      "Hospitals participating in operating room demonstration project: $2,559.35\n",
      "Long-Term Care Hospitals: $-48.86\n",
      "Psychiatric Hospitals: $-237.14\n",
      "Rehabilitation Hospitals: $131.53\n",
      "Religious Non-medical Health Care Institutions: $-250.83\n",
      "Short-term (General and Specialty) Hospitals: $59.28\n"
     ]
    }
   ],
   "source": [
    "# Calculate Net Income per Bed per Night \n",
    "df['Net Income per Bed per Night'] = df['Net Income per Bed'] / 365\n",
    "\n",
    "# Calculate average Net Income per Bed per Night by CCN Facility Type\n",
    "avg_net_income_per_bed_night = df.groupby('CCN Facility Type')['Net Income per Bed per Night'].mean()\n",
    "\n",
    "# Print results as USD\n",
    "print(\"\\nAverage Net Income per Bed per Night by CCN Facility Type (USD):\")\n",
    "for facility_type, income in avg_net_income_per_bed_night.items():\n",
    "    print(f\"{facility_type}: ${income:,.2f}\")"
   ]
  },
  {
   "cell_type": "markdown",
   "id": "520dc770",
   "metadata": {},
   "source": [
    "\n",
    "### Insight 5\n",
    "\n",
    "**Insight Description: Calculating Net income per bed per night by region** <br>\n",
    "\n",
    "**Analysis:** _This tells us the geographical location of the hospitals by facility types. This is important beacuse this can help further fine tune later analysis. As discussed before, typically hospitals in urban enviornments operate at a higher volume, have access to more resources and may more easily achieve an econmony of scale. This can help management compare and contrast the diferent models in each region. Are my margins better for a Short term general hospital? Since this is the case it may be better to place it into a rural envionrmrnt where there is more margin to eat up to ofset the lack of volume or lack of resources. On the opposite end, if a certian facility has razor thin margins, you may benefit from placing it in a more urban enviornment where it can benefit from the volume and ease of access to resources_<br>"
   ]
  },
  {
   "cell_type": "code",
   "execution_count": 349,
   "id": "4938aed5",
   "metadata": {},
   "outputs": [
    {
     "name": "stdout",
     "output_type": "stream",
     "text": [
      "\n",
      "Average Net Income per Bed per Night by CCN Facility Type and Region (USD):\n",
      "Urban - Hospitals participating in operating room demonstration project: $2,559.35\n",
      "Urban - Children’s Hospitals: $634.50\n",
      "Urban - Short-term (General and Specialty) Hospitals: $189.40\n",
      "Rural - Rehabilitation Hospitals: $183.72\n",
      "Urban - Rehabilitation Hospitals: $130.05\n",
      "Rural - Critical Access Hospitals: $52.77\n",
      "Rural - Long-Term Care Hospitals: $28.42\n",
      "Urban - Long-Term Care Hospitals: $-53.42\n",
      "Rural - Short-term (General and Specialty) Hospitals: $-147.28\n",
      "Urban - Critical Access Hospitals: $-224.28\n",
      "Urban - Psychiatric Hospitals: $-239.31\n",
      "Urban - Religious Non-medical Health Care Institutions: $-321.57\n",
      "Rural - Psychiatric Hospitals: $-392.35\n"
     ]
    }
   ],
   "source": [
    "#Calculate Net Income per Bed per Night \n",
    "df['Net Income per Bed per Night'] = df['Net Income per Bed'] / 365\n",
    "\n",
    "# Calculate average Net Income per Bed per Night by Rural vs. Urban and CCN Facility Type\n",
    "avg_net_income_per_bed_night = df.groupby(['Rural Versus Urban', 'CCN Facility Type'])['Net Income per Bed per Night'].mean()\n",
    "\n",
    "# Sort the results from highest to lowest\n",
    "avg_net_income_per_bed_night = avg_net_income_per_bed_night.sort_values(ascending=False)\n",
    "\n",
    "# Print results formatted as USD\n",
    "print(\"\\nAverage Net Income per Bed per Night by CCN Facility Type and Region (USD):\")\n",
    "for (region, facility_type), income in avg_net_income_per_bed_night.items():\n",
    "    # Only show Rural (R) and Urban (U) regions\n",
    "    if region == 'R':\n",
    "        region_name = 'Rural'\n",
    "        print(f\"{region_name} - {facility_type}: ${income:,.2f}\")\n",
    "    if region == 'U':\n",
    "        region_name = 'Urban'\n",
    "        print(f\"{region_name} - {facility_type}: ${income:,.2f}\")"
   ]
  },
  {
   "cell_type": "markdown",
   "id": "6acf59f5",
   "metadata": {},
   "source": [
    "### Notice - There are some descrpencies between like kind facilities in the different regions<br>\n",
    " - **Rual Rehabilitation Hospitals** (183.72) and **Urban Rehabilitation Hospitals** (130.05)\n",
    " - **Rural Long-Term Care Hospitals** (28.4) and **Urban Long-Term Care Hospitals** (-53.42)\n",
    "These are examples of practices management may want to examine closer to find out why these differences are occuring. Knowing that the urban hospitals typically have better margins, why did these specific CCNs in urban areas not perfrom as expected? Is there a billing problem, staffing or utilization problem? "
   ]
  },
  {
   "cell_type": "markdown",
   "id": "0d68ce6f",
   "metadata": {},
   "source": [
    "\n",
    "## 7. Summary and Conclusions\n",
    "\n",
    "Summarize your findings and highlight the most impactful insights you derived from the data.\n",
    "\n",
    "**Guiding Questions:**\n",
    "- What key takeaways did you learn from this data?\n",
    "- How can these insights inform future decisions?\n",
    "- Are there any limitations in your analysis?\n"
   ]
  },
  {
   "cell_type": "markdown",
   "id": "6c24062d",
   "metadata": {},
   "source": [
    "### Conclusion of Insights:<br>\n",
    " In 2022 urban hospitals had superior efficiency and profitability, with specialty and demo project hospitals leading in net income and margins. Rural hospitals, particularly general care facilities, face losses, showcasing a potential need for operational or strategic interventions. The insights provide actionable benchmarks for management, supporting investment, billing, and facility placement decisions. <br>\n",
    "\n",
    " Things that would bolster this analysis is more data; if we had a 5 year window of data to look at we would be able to get a better picture of true effeciency. <br>There are many external and internal factors which can cause a loss in just one year, (key employee turnover, investments in PPE, or supply chain constraints), but if we had more years to look at it could help us further determine if a practice is inefficent or just had a bad operating year.<br>\n",
    " Another thing that could have bolstered our analysis is data regarding to length of average visit and patient statisfaction surveys. Typically in rural practices the pace of care is slower, they do not have nearly as much volume or constraints for beds. Due to this people whom are hospitalized in rural areas often can stay longer and may receive more personalized care. This is where having length of stay data and patient staisfaction surveys would greatly bolster our analysis and help us make informed decsions. <br>\n"
   ]
  },
  {
   "cell_type": "markdown",
   "id": "86f73880",
   "metadata": {},
   "source": []
  },
  {
   "cell_type": "markdown",
   "id": "d745c89b",
   "metadata": {},
   "source": [
    "\n",
    "## 8. Projections\n",
    "\n",
    "Finally, tell us something that can be learned from this analysis to make better decisions going forward. "
   ]
  },
  {
   "cell_type": "markdown",
   "id": "d466af34",
   "metadata": {},
   "source": [
    "**Insight Description:** <br>\n",
    "**How can hospital networks use the identified efficiency and profitability differences between urban and rural hospitals, particularly by Facility Type, to strategically invest in or optimize facilities in the future, ensuring a balance between financial performance and community healthcare needs?** <br>\n",
    "\n",
    "**Analysis:** The analysis shows urban specialty hospitals (ie., Children’s Hospitals: $634.50 per bed per night, Operating Room Demo: $2,559.35) and rural Rehabilitation Hospitals ($183.72) are profitable, while rural Short-term Hospitals (-$147.28) and urban Psychiatric Hospitals (-$239.31) incur losses. However with the given dataset losses may stem from one-year issues (ie., supply chain) or inefficiencies (e.g., lower volume, longer stays), but more data is needed to confirm.\n",
    "\n",
    "With these insights hospital networks can:\n",
    "1. **Prioritize High-Margin Facilities**: Invest in urban Children’s and Operating Room Demo hospitals and rural Rehabilitation Hospitals to maximize profitability.\n",
    "2. **Optimize Rural Operations**: Reduce rural costs per bed ($3,923.00/day) through shared resources or telemedicine, or convert Short-term Hospitals to Rehabilitation Hospitals.\n",
    "3. **Balance Community Needs**: Use urban profits to subsidize rural general care hospitals, ensuring access.\n",
    "4. **Collect More Data**: Gather multi-year data, length-of-stay, and patient satisfaction to confirm inefficiencies and optimize care delivery.<br>"
   ]
  },
  {
   "cell_type": "markdown",
   "id": "13198b97",
   "metadata": {},
   "source": []
  },
  {
   "cell_type": "markdown",
   "id": "eee05150",
   "metadata": {},
   "source": [
    "\n",
    "**Instructions for Submission:**\n",
    "\n",
    "- Submit the completed `.ipynb` file, dataset, and link to dataset in Canvas. (link only is fine if dataset is too big)\n"
   ]
  },
  {
   "cell_type": "markdown",
   "id": "cf44baab",
   "metadata": {},
   "source": [
    "## Grading Critiria\n",
    "\n",
    "Below are some of the critiria that I will be using when grading the final case. Keep in mind, no one part has a specific weight."
   ]
  },
  {
   "cell_type": "markdown",
   "id": "e6bc06b1",
   "metadata": {},
   "source": [
    "| **Section**          | **Description**                                                                                                                                             |\n",
    "|----------------------|-------------------------------------------------------------------------------------------------------------------------------------------------------------|\n",
    "| **Dataset Quality**  | Does the dataset meet the length and complexity requirements(Unless previously cleared and discussed with insturctor)? Note that redundant datasets used in prior assignments result in an automatic 15% penalty.                                                                                               |\n",
    "| **Data Ingestion**   | Demonstrates a well-structured process using Python to import, explore, and clean the data.                                                                 |\n",
    "| **Data Cleanup**     | Clearly explains how data was cleaned (if necessary) to prepare it for analysis.                                                                            |\n",
    "| **Analysis**         | - Utilizes a variety of modules and functions to analyze the cleaned dataset.                                                                               |\n",
    "|                      | - You and your partner must provide at least six (6) insights derived from the analysis. (9 insights if a group of 3)                                                                   |\n",
    "|                      | - Insights should reveal something not initially obvious from the raw data.                                                                                 |\n",
    "|                      | - Present each insight with code execution, printed data tables, visuals, etc., and explain the process and significance.                                   |\n",
    "| **Conclusion**       | Synthesizes your insights to explain the overall story the data tells.                                                                                      |\n",
    "|                      | Discusses the importance of the data and general conclusions that can be drawn.                                                                             |\n",
    "| **Projection**       | Takes the analysis further by considering its application in a real-world context.                                                                          |\n",
    "|                      | Provides recommendations for stakeholders on how the findings can inform better, more informed decisions in the future.                                     |\n",
    "|----------------------|-------------------------------------------------------------------------------------------------------------------------------------------------------------|\n",
    "| **Overall Presentation Quality**                     | How descriptive your explanations in the file are and the verbal presentation piece.                                    |\n"
   ]
  }
 ],
 "metadata": {
  "kernelspec": {
   "display_name": "venv",
   "language": "python",
   "name": "python3"
  },
  "language_info": {
   "codemirror_mode": {
    "name": "ipython",
    "version": 3
   },
   "file_extension": ".py",
   "mimetype": "text/x-python",
   "name": "python",
   "nbconvert_exporter": "python",
   "pygments_lexer": "ipython3",
   "version": "3.10.8"
  }
 },
 "nbformat": 4,
 "nbformat_minor": 5
}
