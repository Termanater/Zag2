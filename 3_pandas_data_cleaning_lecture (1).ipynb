{
 "cells": [
  {
   "cell_type": "markdown",
   "id": "ae51eed2",
   "metadata": {},
   "source": [
    "\n",
    "# Pandas - Data Cleaning Tutorial\n",
    "In this lecture, we will explore how to clean data using the Pandas library in Python.\n",
    "\n",
    "We will cover the following topics:\n",
    "- Removing Empty Cells\n",
    "- Fixing Data with Wrong Format\n",
    "- Fixing Wrong Data\n",
    "- Removing Duplicates\n"
   ]
  },
  {
   "cell_type": "code",
   "execution_count": null,
   "id": "714dfdd9",
   "metadata": {},
   "outputs": [],
   "source": [
    "\n",
    "import pandas as pd\n",
    "\n",
    "# Sample data\n",
    "data = {\n",
    "    \"Duration\": [60, 60, 60, 45, 45, 60, 60, 450, 30, 60, 60, 60, 60, 60, 60, 60, 60, 60, 45, 60, 45, 60, 45, 60, 45, 60, 60, 60, 60, 60, 60, 60],\n",
    "    \"Date\": [None, '2020/12/02', None, '2020/12/04', '2020/12/05', '2020/12/06', '2020/12/07', '2020/12/08', '2020/12/09', '2020/12/10',\n",
    "             '2020/12/11', '2020/12/12', '2020/12/12', '2020/12/13', '2020/12/14', '2020/12/15', '2020/12/16', '2020/12/17', '2020/12/18', '2020/12/19',\n",
    "             '2020/12/20', '2020/12/21', None, '2020/12/23', '2020/12/24', '2020/12/25', '20201226', '2020/12/27', '2020/12/28', '2020/12/29', '2020/12/30', '2020/12/31'],\n",
    "    \"Calories\": [409.1, 479.0, 340.0, 282.4, 406.0, 300.0, 374.0, 253.3, 195.1, 269.0, 329.3, 250.7, 250.7, 345.3, 379.3, 275.0, 215.2, 300.0, None, 323.0,\n",
    "                 243.0, 364.2, 282.0, 300.0, 246.0, 334.5, 250.0, 241.0, None, 280.0, 380.3, 243.0]\n",
    "}\n",
    "\n",
    "#make our starding df\n",
    "df = pd.DataFrame(data)"
   ]
  },
  {
   "cell_type": "code",
   "execution_count": null,
   "id": "8e910504",
   "metadata": {},
   "outputs": [],
   "source": [
    "df.info()"
   ]
  },
  {
   "cell_type": "code",
   "execution_count": null,
   "id": "a029e067",
   "metadata": {},
   "outputs": [],
   "source": [
    "#what do you notice with the df? what needs to be cleaned up?\n",
    "df\n"
   ]
  },
  {
   "cell_type": "markdown",
   "id": "5c91d39f",
   "metadata": {},
   "source": [
    "\n",
    "## 1. Removing Empty Cells\n",
    "Empty cells can potentially give you incorrect results when analyzing data.\n",
    "\n",
    "### Removing Empty Cells\n",
    "You can remove rows with empty cells using the `dropna()` method:\n"
   ]
  },
  {
   "cell_type": "code",
   "execution_count": null,
   "id": "598bdb8c",
   "metadata": {},
   "outputs": [],
   "source": [
    "# Remove rows with empty cells\n",
    "df = df.dropna()"
   ]
  },
  {
   "cell_type": "code",
   "execution_count": null,
   "id": "885cfccd",
   "metadata": {},
   "outputs": [],
   "source": [
    "#what do you see with the index numbers? Also what else needs to be cleaned?\n",
    "df"
   ]
  },
  {
   "cell_type": "code",
   "execution_count": null,
   "id": "a3aba4da",
   "metadata": {},
   "outputs": [],
   "source": [
    "df.info()"
   ]
  },
  {
   "cell_type": "markdown",
   "id": "57aa58f4",
   "metadata": {},
   "source": [
    "\n",
    "## 2. Fixing Data with Wrong Format\n",
    "Sometimes, data may have wrong formats that need correction. For instance, the 'Date' column should have all values in the date format.\n",
    "\n",
    "### Example:\n",
    "```plaintext\n",
    "Row 22 has an empty date.\n",
    "Row 26 has a date in the wrong format ('20201226').\n",
    "```\n",
    "\n",
    "We can use the `to_datetime()` method to convert the 'Date' column into the correct format:\n"
   ]
  },
  {
   "cell_type": "code",
   "execution_count": null,
   "id": "45cb51be",
   "metadata": {},
   "outputs": [],
   "source": [
    "# Convert the 'Date' column into datetime format\n",
    "\n",
    "# Make sure all values are strings\n",
    "df['Date'] = df['Date'].astype(str)\n",
    "\n",
    "print(df)\n",
    "\n",
    "# Identify values that are in 'YYYYMMDD' format (8 digits, no slashes)\n",
    "mask = df['Date'].str.match(r'^\\d{8}$')\n",
    "print(mask)\n",
    "\n",
    "# Convert those using the correct format\n",
    "df.loc[mask, 'Date'] = pd.to_datetime(df.loc[mask, 'Date'], format='%Y%m%d')\n",
    "\n",
    "# Convert the rest using pandas' auto-format pack to date.\n",
    "df.loc[~mask, 'Date'] = pd.to_datetime(df.loc[~mask, 'Date'])\n"
   ]
  },
  {
   "cell_type": "markdown",
   "id": "cc6556c5",
   "metadata": {},
   "source": [
    "The parameter errors='coerce' tells pandas to handle invalid date formats gracefully. Here's what it does:\n",
    "\n",
    "If a value in the 'Date' column can't be converted into a valid datetime (e.g., due to typos, wrong format, or missing values), it will be replaced with NaT (Not a Time), which is the datetime equivalent of NaN."
   ]
  },
  {
   "cell_type": "code",
   "execution_count": null,
   "id": "1a5ecd30",
   "metadata": {},
   "outputs": [],
   "source": [
    "df"
   ]
  },
  {
   "cell_type": "markdown",
   "id": "5b6d81ae",
   "metadata": {},
   "source": [
    "\n",
    "## 3. Fixing Wrong Data\n",
    "Sometimes, data values may be wrong, such as a duration of 450 minutes in a dataset where most durations are between 30 and 60 minutes.\n",
    "\n",
    "### Example:\n",
    "We will fix the duration value in row 7 to 45 minutes:\n"
   ]
  },
  {
   "cell_type": "code",
   "execution_count": null,
   "id": "086a094c",
   "metadata": {},
   "outputs": [],
   "source": [
    "\n",
    "# Fix wrong data in 'Duration' column\n",
    "df.loc[df['Duration'] > 120, 'Duration'] = 120"
   ]
  },
  {
   "cell_type": "code",
   "execution_count": null,
   "id": "b0e4dbb9",
   "metadata": {},
   "outputs": [],
   "source": [
    "df"
   ]
  },
  {
   "cell_type": "markdown",
   "id": "d9823517",
   "metadata": {},
   "source": [
    "\n",
    "## 4. Removing Duplicates\n",
    "Duplicate rows are rows that have been registered more than once in the dataset.\n",
    "\n",
    "### Example:\n",
    "Rows 11 and 12 are duplicates.\n",
    "\n",
    "To remove duplicates, we use the `drop_duplicates()` method:\n"
   ]
  },
  {
   "cell_type": "code",
   "execution_count": null,
   "id": "4cf978cd",
   "metadata": {},
   "outputs": [],
   "source": [
    "\n",
    "# Remove duplicates\n",
    "df_no_duplicates = df.drop_duplicates()\n",
    "\n",
    "# Show the cleaned DataFrame\n",
    "print(df_no_duplicates.to_string())\n"
   ]
  }
 ],
 "metadata": {
  "kernelspec": {
   "display_name": "venv",
   "language": "python",
   "name": "python3"
  },
  "language_info": {
   "codemirror_mode": {
    "name": "ipython",
    "version": 3
   },
   "file_extension": ".py",
   "mimetype": "text/x-python",
   "name": "python",
   "nbconvert_exporter": "python",
   "pygments_lexer": "ipython3",
   "version": "3.10.8"
  }
 },
 "nbformat": 4,
 "nbformat_minor": 5
}
