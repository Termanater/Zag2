{
 "cells": [
  {
   "cell_type": "markdown",
   "id": "28bda555",
   "metadata": {},
   "source": [
    "# Pandas Basics"
   ]
  },
  {
   "cell_type": "markdown",
   "id": "41a75773",
   "metadata": {},
   "source": [
    "## What is Pandas?\n",
    "\n",
    "A package for the Python programming language for data manipulation and analysis. \n",
    "\n",
    "In particular, it offers data structures and operations for manipulating numerical tables and time series."
   ]
  },
  {
   "cell_type": "markdown",
   "id": "3ccb65c8",
   "metadata": {},
   "source": [
    "## Installing Pandas (PIP)\n",
    "\n",
    "Pip is a package manager for Python that automates the process of installing, upgrading, configuring, and removing packages.\n",
    "\n",
    "`How it works`\n",
    "Pip uses PyPi as its default repository for fetching packages, but it can also install packages from other sources, such as version control systems, requirements files, and distribution files.\n",
    "\n",
    "`When it's included`\n",
    "Pip is included by default in Python version 3.4 or later. If you installed Python from source, with an installer from python.org, or via Homebrew, you should already have pip.\n",
    "\n",
    "`How to use it`\n",
    "You run pip from your system's command-line interface, not from within Python itself. To install a package, type pip install and then the name of the package.\n",
    "\n",
    "For VS Code, this is run in your terminal (and venv if you're using one.)\n",
    "\n",
    "Syntax `pip install pandas`\n"
   ]
  },
  {
   "cell_type": "markdown",
   "id": "fba790ed",
   "metadata": {},
   "source": [
    "## Introduction to Pandas\n",
    "- Pandas is a Python library used for working with data sets.\n",
    "- It provides functions for analyzing, cleaning, exploring, and manipulating data.\n",
    "- Created by Wes McKinney in 2008.\n",
    "- The name Pandas is derived from **Panel Data** and **Python Data Analysis**."
   ]
  },
  {
   "cell_type": "markdown",
   "id": "cdd36431",
   "metadata": {},
   "source": [
    "# Why Use Pandas in Python?\n",
    "\n",
    "## 1. Data Structures for Efficient Handling\n",
    "- **Series**: One-dimensional labeled array (similar to a column in Excel or a list with labels).\n",
    "- **DataFrame**: Two-dimensional labeled data structure (like a spreadsheet or SQL table).\n",
    "\n",
    "## 2. Easy Data Manipulation\n",
    "- Read and write data from multiple sources: **CSV, Excel, SQL databases, JSON**, and more.\n",
    "- Perform operations like **filtering, sorting, reshaping, and aggregation** efficiently.\n",
    "\n",
    "## 3. Powerful Data Cleaning Tools\n",
    "- Handle missing values easily using `.fillna()`, `.dropna()`, and `.interpolate()`.\n",
    "- Detect and remove duplicate entries with `.duplicated()` and `.drop_duplicates()`.\n",
    "\n",
    "## 4. Fast and Efficient Data Processing\n",
    "- Built on **NumPy**, enabling fast operations on large datasets.\n",
    "- **Vectorized operations** avoid the need for slow Python loops.\n",
    "\n",
    "## 5. Advanced Data Aggregation & Grouping\n",
    "- Use `.groupby()` to aggregate data and perform computations like **mean, sum, count**, etc.\n",
    "- Use `.pivot_table()` for **multi-dimensional data summarization**.\n",
    "\n",
    "## 6. Merging and Joining Datasets\n",
    "- Use `.merge()` and `.join()` to **combine multiple datasets** based on keys (like SQL joins).\n",
    "- Use `.concat()` to concatenate datasets **vertically or horizontally**.\n",
    "\n",
    "## 7. Time Series Analysis\n",
    "- **Resample, shift, and handle time-indexed data** easily with `.resample()` and `.shift()`.\n",
    "- Perform **rolling window calculations** using `.rolling()`.\n",
    "\n",
    "## 8. Built-in Visualization\n",
    "- Integrates with **Matplotlib** to create plots directly from DataFrames using `.plot()`.\n",
    "- Supports **line plots, bar charts, histograms, scatter plots**, and more.\n",
    "\n",
    "## 9. Compatibility with Other Libraries\n",
    "- Works seamlessly with **NumPy, Matplotlib, Seaborn, Scikit-Learn, and TensorFlow**.\n",
    "- Can convert data to **NumPy arrays** for machine learning models.\n",
    "\n",
    "## 10. Data Export and Storage\n",
    "- Easily save processed data back to **CSV, Excel, JSON, SQL**, and other formats.\n",
    "- Helps in **data pipeline automation**.\n"
   ]
  },
  {
   "cell_type": "markdown",
   "id": "1d68a210",
   "metadata": {},
   "source": [
    "### Installation of Pandas\n",
    "If Pandas is not installed, you can install it using pip:\n",
    "```\n",
    "!pip install pandas\n",
    "```"
   ]
  },
  {
   "cell_type": "code",
   "execution_count": null,
   "id": "3410931e",
   "metadata": {},
   "outputs": [],
   "source": [
    "import pandas as pd\n",
    "print('Pandas is successfully imported.')"
   ]
  },
  {
   "cell_type": "markdown",
   "id": "5b5a969e",
   "metadata": {},
   "source": [
    "### Pandas Series\n",
    "A **Series** is a one-dimensional array holding data of any type. It is similar to a column in a table.\n",
    "\n",
    "Note that you would only use a series if you are working with one dimensional data. While you can use a dataframe, it uses more memory. "
   ]
  },
  {
   "cell_type": "code",
   "execution_count": null,
   "id": "d54b8fda",
   "metadata": {},
   "outputs": [],
   "source": [
    "a = [1, 7, 2] #what type of variable is a?\n",
    "myvar = pd.Series(a) #call for a series. Also note that pandas is called as pd becuase that's how we imported it. \n",
    "print(myvar)"
   ]
  },
  {
   "cell_type": "markdown",
   "id": "c65bfa81",
   "metadata": {},
   "source": [
    "By default, Pandas labels the Series with index numbers starting from 0. You can also create custom labels using the `index` argument."
   ]
  },
  {
   "cell_type": "code",
   "execution_count": null,
   "id": "13973df3",
   "metadata": {},
   "outputs": [],
   "source": [
    "a = [1, 7, 2]\n",
    "myvar = pd.Series(a, index = ['x', 'y', 'z']) #must match the length of the input. \n",
    "print(myvar)"
   ]
  },
  {
   "cell_type": "markdown",
   "id": "0fc9df7d",
   "metadata": {},
   "source": [
    "### Pandas DataFrame\n",
    "A **DataFrame** is a 2-dimensional data structure, like a table with rows and columns."
   ]
  },
  {
   "cell_type": "code",
   "execution_count": null,
   "id": "0403f362",
   "metadata": {},
   "outputs": [],
   "source": [
    "data = {'calories': [420, 380, 390], 'duration': [50, 40, 45]} #what type is this?\n",
    "df = pd.DataFrame(data)\n",
    "print(df)"
   ]
  },
  {
   "cell_type": "code",
   "execution_count": null,
   "id": "4f2a72d4",
   "metadata": {},
   "outputs": [],
   "source": [
    "#In Jupyter Notebook, you can pretty print the df. With jus the dataframe's name.\n",
    "df"
   ]
  },
  {
   "cell_type": "markdown",
   "id": "b2d39bc7",
   "metadata": {},
   "source": [
    "### Read CSV Files\n",
    "You can load CSV files directly into Pandas DataFrames using `pd.read_csv()`."
   ]
  },
  {
   "cell_type": "code",
   "execution_count": null,
   "id": "8b43fa28",
   "metadata": {},
   "outputs": [],
   "source": [
    "# Example to load CSV file\n",
    "df = pd.read_csv('data.csv') #note how easy the syntax is in python\n",
    "print(df.head(2))"
   ]
  },
  {
   "cell_type": "code",
   "execution_count": null,
   "id": "b7fae814",
   "metadata": {},
   "outputs": [],
   "source": [
    "df"
   ]
  },
  {
   "cell_type": "markdown",
   "id": "25aceacd",
   "metadata": {},
   "source": [
    "Side Note: Here is the pandas source code for this funtion. Look how easy they made it for you!\n",
    "    \n",
    "https://github.com/pandas-dev/pandas/blob/main/pandas/io/parsers/readers.py"
   ]
  },
  {
   "cell_type": "markdown",
   "id": "d37edff1",
   "metadata": {},
   "source": [
    "### Read JSON Files\n",
    "You can also load JSON files into Pandas DataFrames using `pd.read_json()`."
   ]
  },
  {
   "cell_type": "code",
   "execution_count": null,
   "id": "778f240f",
   "metadata": {},
   "outputs": [],
   "source": [
    "# Example to load JSON file\n",
    "df = pd.read_json('data.json')\n",
    "print(df.head())"
   ]
  },
  {
   "cell_type": "code",
   "execution_count": null,
   "id": "7e82d710",
   "metadata": {},
   "outputs": [],
   "source": [
    "df"
   ]
  },
  {
   "cell_type": "markdown",
   "id": "78c01918",
   "metadata": {},
   "source": [
    "Side Note: Here is the pandas source code for this funtion. Look how easy they made it for you!\n",
    "    \n",
    "https://github.com/pandas-dev/pandas/blob/main/pandas/io/json/_json.py"
   ]
  },
  {
   "cell_type": "markdown",
   "id": "277fc23b",
   "metadata": {},
   "source": [
    "### Analyzing DataFrames\n",
    "You can get a quick overview of a DataFrame using the `head()` and `tail()` methods to view the first and last rows."
   ]
  },
  {
   "cell_type": "code",
   "execution_count": null,
   "id": "0bc0e9e2",
   "metadata": {},
   "outputs": [],
   "source": [
    "print(df.head(10)) #by default prints 5 rows, but you can put the rows you want to customize it.\n",
    "print(df.tail())"
   ]
  },
  {
   "cell_type": "markdown",
   "id": "2483f75d",
   "metadata": {},
   "source": [
    "The `info()` method gives you more information about the data, such as the number of entries, columns, and non-null values."
   ]
  },
  {
   "cell_type": "code",
   "execution_count": null,
   "id": "c433900d",
   "metadata": {},
   "outputs": [],
   "source": [
    "print(df.info())"
   ]
  }
 ],
 "metadata": {
  "kernelspec": {
   "display_name": "venv",
   "language": "python",
   "name": "python3"
  },
  "language_info": {
   "codemirror_mode": {
    "name": "ipython",
    "version": 3
   },
   "file_extension": ".py",
   "mimetype": "text/x-python",
   "name": "python",
   "nbconvert_exporter": "python",
   "pygments_lexer": "ipython3",
   "version": "3.10.8"
  }
 },
 "nbformat": 4,
 "nbformat_minor": 5
}
