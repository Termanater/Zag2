{
 "cells": [
  {
   "cell_type": "markdown",
   "id": "ddaccf04",
   "metadata": {},
   "source": [
    "# Basic Pandas Functions with Examples"
   ]
  },
  {
   "cell_type": "markdown",
   "id": "e7b2fb39",
   "metadata": {},
   "source": [
    "## 1. Data Loading and Saving"
   ]
  },
  {
   "cell_type": "code",
   "execution_count": null,
   "id": "4d00ad96",
   "metadata": {},
   "outputs": [],
   "source": [
    "import pandas as pd\n",
    "\n",
    "# Create a sample DataFrame, Note that df made by hand is either a dictionary or a list of lists. \n",
    "sample_data = {\n",
    "    'Name': ['Alice', 'Bob', 'Charlie', 'David', 'Eva'],\n",
    "    'Age': [23, 35, 45, 22, 30],\n",
    "    'City': ['New York', 'Los Angeles', 'Chicago', 'Houston', 'Phoenix'],\n",
    "    'Salary': [70000, 80000, 120000, 90000, 85000]\n",
    "}\n",
    "\n",
    "# Convert the dictionary to a DataFrame\n",
    "df = pd.DataFrame(sample_data)\n",
    "\n",
    "# Display the DataFrame\n",
    "print(df)\n"
   ]
  },
  {
   "cell_type": "code",
   "execution_count": null,
   "id": "d173a911",
   "metadata": {},
   "outputs": [],
   "source": [
    "# Display the DataFrame\n",
    "df"
   ]
  },
  {
   "cell_type": "markdown",
   "id": "7e5b6237",
   "metadata": {},
   "source": [
    "## 2. Data Inspection"
   ]
  },
  {
   "cell_type": "code",
   "execution_count": null,
   "id": "97d3d3ad",
   "metadata": {},
   "outputs": [],
   "source": [
    "# Display the first few rows\n",
    "print(\"Displaying the first few rows of the DataFrame:\")\n",
    "print(df.head())\n",
    "print(\"############################################################\")\n",
    "\n",
    "# Show summary statistics\n",
    "print(\"Summary statistics of the DataFrame:\")\n",
    "print(df.describe())\n",
    "print(\"############################################################\")\n",
    "\n",
    "# Show DataFrame info\n",
    "print(\"Information about the DataFrame (including data types and non-null counts):\")\n",
    "df.info()  # info() directly prints the output, no need for print()\n",
    "print(\"############################################################\")\n",
    "\n",
    "# Check the DataFrame's shape\n",
    "print(\"The shape of the DataFrame (rows, columns):\")\n",
    "print(df.shape)\n",
    "print(\"############################################################\")\n",
    "\n",
    "# Display column names\n",
    "print(\"Column names of the DataFrame:\")\n",
    "print(df.columns)\n",
    "print(\"############################################################\")\n",
    "\n",
    "# Check the data types of each column\n",
    "print(\"Data types of each column in the DataFrame:\")\n",
    "print(df.dtypes)\n",
    "print(\"############################################################\")\n",
    "\n"
   ]
  },
  {
   "cell_type": "markdown",
   "id": "63cde7fd",
   "metadata": {},
   "source": [
    "## 3. Data Selection and Filtering"
   ]
  },
  {
   "cell_type": "code",
   "execution_count": null,
   "id": "f62588a9",
   "metadata": {},
   "outputs": [],
   "source": [
    "# Select a column\n",
    "print(\"Selecting the 'City' column:\")\n",
    "column = df['City']\n",
    "print(column)\n",
    "print(\"############################################################\")\n",
    "\n",
    "# Select multiple columns\n",
    "print(\"Selecting multiple columns: 'Name' and 'Age':\")\n",
    "multiple_columns = df[['Name', 'Age']]\n",
    "print(multiple_columns)\n",
    "print(\"############################################################\")\n",
    "\n",
    "# Select rows by index\n",
    "print(\"Selecting a row by index (index 0 corresponds to Alice):\")\n",
    "row = df.iloc[0]  # Alice is at index 0\n",
    "print(row)\n",
    "print(\"############################################################\")\n",
    "\n",
    "# Select rows by label\n",
    "print(\"Selecting specific columns for row with label/index 1 (which is Bob):\")\n",
    "label_row = df.loc[1, ['Name', 'City', 'Salary']]  # Row 1 is Bob\n",
    "print(label_row)\n",
    "print(\"############################################################\")\n",
    "\n",
    "# Access a single value by row and column position\n",
    "print(\"Accessing a single value by row and column position (Row 0, Column 0):\")\n",
    "value = df.iat[0, 0]\n",
    "print(value)\n",
    "print(\"############################################################\")\n",
    "\n"
   ]
  },
  {
   "cell_type": "markdown",
   "id": "732643b6",
   "metadata": {},
   "source": [
    "## 4. Data Cleaning"
   ]
  },
  {
   "cell_type": "code",
   "execution_count": null,
   "id": "9ba8de32",
   "metadata": {},
   "outputs": [],
   "source": [
    "import pandas as pd\n",
    "import numpy as np\n",
    "\n",
    "# Create a sample DataFrame with missing values, specific values to replace, and duplicate rows\n",
    "sample_data = {\n",
    "    'Name': ['Alice', 'Bob', 'Charlie', 'David', 'Eva', 'Bob'],\n",
    "    'Age': [23, np.nan, 45, 22, 30, np.nan],\n",
    "    'City': ['New York', 'Los Angeles', 'Chicago', 'Houston', 'Phoenix', 'Los Angeles'],\n",
    "    'Salary': [70000, 80000, 120000, np.nan, 85000, 80000]\n",
    "}\n",
    "\n",
    "df = pd.DataFrame(sample_data)\n",
    "\n",
    "# Display the DataFrame\n",
    "print(df)"
   ]
  },
  {
   "cell_type": "code",
   "execution_count": null,
   "id": "579826bf",
   "metadata": {},
   "outputs": [],
   "source": [
    "# Remove missing values\n",
    "print(\"Removing rows with missing values (NaN):\")\n",
    "df_cleaned = df.dropna()\n",
    "print(df_cleaned)\n",
    "print(\"############################################################\")\n",
    "\n",
    "# Fill missing values\n",
    "print(\"Filling missing values (NaN) with 0:\")\n",
    "df_filled = df.fillna(0)\n",
    "print(df_filled)\n",
    "print(\"############################################################\")\n",
    "\n",
    "# Replace specific values\n",
    "print(\"Replacing occurrences of 'old_value' with 'new_value':\")\n",
    "df_replaced = df.replace('Los Angeles', 'Los Angeles-2')\n",
    "print(df_replaced)\n",
    "print(\"############################################################\")\n",
    "\n",
    "# Remove duplicate rows\n",
    "print(\"Removing duplicate rows from the DataFrame:\")\n",
    "df_no_duplicates = df.drop_duplicates()\n",
    "print(df_no_duplicates)\n",
    "print(\"############################################################\")\n"
   ]
  },
  {
   "cell_type": "markdown",
   "id": "931644e2",
   "metadata": {},
   "source": [
    "## 5. Data Aggregation"
   ]
  },
  {
   "cell_type": "code",
   "execution_count": null,
   "id": "9845276a",
   "metadata": {},
   "outputs": [],
   "source": [
    "import pandas as pd\n",
    "import numpy as np\n",
    "\n",
    "# Create a sample DataFrame for aggregation and grouping examples\n",
    "sample_data = {\n",
    "    'Department': ['HR', 'Finance', 'IT', 'HR', 'IT', 'Finance', 'HR'],\n",
    "    'Employees': [5, 10, 25, 8, 15, 12, 9],\n",
    "    'Salary': [50000, 60000, 120000, 55000, 110000, 65000, 52000],\n",
    "    'Bonus': [5000, 6000, 12000, 5500, 11000, np.nan, 5200]\n",
    "}\n",
    "\n",
    "df = pd.DataFrame(sample_data)\n",
    "\n",
    "# Display the DataFrame\n",
    "print(df)"
   ]
  },
  {
   "cell_type": "code",
   "execution_count": null,
   "id": "ab7f176a",
   "metadata": {},
   "outputs": [],
   "source": [
    "df"
   ]
  },
  {
   "cell_type": "code",
   "execution_count": null,
   "id": "f49d09f0",
   "metadata": {},
   "outputs": [],
   "source": [
    "# Sum values\n",
    "print(\"Summing the values in the 'Salary' column:\")\n",
    "total_sum = df['Salary'].sum()\n",
    "print(f\"Total sum of Salary: {total_sum}\")\n",
    "print(\"############################################################\")\n",
    "\n",
    "# Mean values\n",
    "print(\"Calculating the mean (average) of the 'Salary' column:\")\n",
    "mean_value = df['Salary'].mean()\n",
    "print(f\"Mean Salary: {mean_value}\")\n",
    "print(\"############################################################\")\n",
    "\n",
    "# Group by a column and compute the mean\n",
    "print(\"Grouping by the 'Department' column and computing the mean of each group:\")\n",
    "grouped_mean = df.groupby('Department').mean(numeric_only=True)\n",
    "print(grouped_mean)\n",
    "print(\"############################################################\")\n",
    "\n",
    "# Count non-null values\n",
    "print(\"Counting non-null values in the 'Bonus' column:\")\n",
    "count_values = df['Bonus'].count()\n",
    "print(f\"Count of non-null Bonus values: {count_values}\")\n",
    "print(\"############################################################\")\n"
   ]
  },
  {
   "cell_type": "markdown",
   "id": "48d6eafe",
   "metadata": {},
   "source": [
    "## 6. Data Manipulation"
   ]
  },
  {
   "cell_type": "code",
   "execution_count": null,
   "id": "7daf0732",
   "metadata": {},
   "outputs": [],
   "source": [
    "import pandas as pd\n",
    "\n",
    "# Create a sample DataFrame for sorting and custom function application\n",
    "data = {\n",
    "    'Name': ['Alice', 'Bob', 'Charlie', 'David', 'Eva'],\n",
    "    'Age': [23, 35, 45, 22, 30],\n",
    "    'Salary': [70000, 80000, 120000, 90000, 85000],\n",
    "    'Department': ['HR', 'Finance', 'IT', 'HR', 'Finance']\n",
    "}\n",
    "\n",
    "df = pd.DataFrame(data)\n",
    "\n",
    "# Create a second DataFrame for concatenation and appending\n",
    "data_new = {\n",
    "    'Name': ['Frank', 'Grace'],\n",
    "    'Age': [40, 29],\n",
    "    'Salary': [95000, 67000],\n",
    "    'Department': ['HR', 'Finance']\n",
    "}\n",
    "df_new = pd.DataFrame(data_new)"
   ]
  },
  {
   "cell_type": "code",
   "execution_count": null,
   "id": "daab7342",
   "metadata": {},
   "outputs": [],
   "source": [
    "df"
   ]
  },
  {
   "cell_type": "code",
   "execution_count": null,
   "id": "051cbb97",
   "metadata": {},
   "outputs": [],
   "source": [
    "df_new"
   ]
  },
  {
   "cell_type": "code",
   "execution_count": null,
   "id": "76370c86",
   "metadata": {},
   "outputs": [],
   "source": [
    "# Sort by column values\n",
    "print(\"Sorting the DataFrame by the 'Department' column:\")\n",
    "df_sorted = df.sort_values(by='Department')\n",
    "print(df_sorted)\n",
    "print(\"############################################################\")\n",
    "\n",
    "# Apply a custom function to each element\n",
    "print(\"Doubling the values in the 'Salary' column using a custom function:\")\n",
    "df['Salary'] = df['Salary'].apply(lambda x: x * 2)\n",
    "print(df)\n",
    "print(\"############################################################\")\n",
    "\n",
    "# Concatenate two DataFrames\n",
    "print(\"Concatenating two DataFrames (df and df_new):\")\n",
    "df_combined = pd.concat([df, df_new])\n",
    "print(df_combined)\n",
    "print(\"############################################################\")\n",
    "\n",
    "# Create a pivot table\n",
    "print(\"Creating a pivot table with 'Department' as the index and summing 'Salary':\")\n",
    "pivot_table = df.pivot_table(index='Department', values='Salary', aggfunc='sum')\n",
    "print(pivot_table)\n",
    "print(\"############################################################\")\n",
    "\n",
    "# Transpose the DataFrame\n",
    "print(\"Transposing the DataFrame (switching rows and columns):\")\n",
    "df_transposed = df.T\n",
    "print(df_transposed)\n",
    "print(\"############################################################\")\n"
   ]
  },
  {
   "cell_type": "markdown",
   "id": "bca8309a",
   "metadata": {},
   "source": [
    "## 7. Indexing and Renaming"
   ]
  },
  {
   "cell_type": "code",
   "execution_count": null,
   "id": "6bd379c1",
   "metadata": {},
   "outputs": [],
   "source": [
    "import pandas as pd\n",
    "\n",
    "# Create a sample DataFrame for sorting and custom function application\n",
    "data = {\n",
    "    'Name': ['Alice', 'Bob', 'Charlie', 'David', 'Eva'],\n",
    "    'Age': [23, 35, 45, 22, 30],\n",
    "    'Salary': [70000, 80000, 120000, 90000, 85000],\n",
    "    'Department': ['HR', 'Finance', 'IT', 'HR', 'Finance']\n",
    "}\n",
    "\n",
    "df = pd.DataFrame(data)"
   ]
  },
  {
   "cell_type": "code",
   "execution_count": null,
   "id": "86b21dc7",
   "metadata": {},
   "outputs": [],
   "source": [
    "df"
   ]
  },
  {
   "cell_type": "code",
   "execution_count": null,
   "id": "b96d181d",
   "metadata": {},
   "outputs": [],
   "source": [
    "# Set a column as the index\n",
    "print(\"Setting the 'Name' column as the index of the DataFrame:\")\n",
    "df_indexed = df.set_index('Name')\n",
    "print(df_indexed)\n",
    "print(\"############################################################\")\n",
    "\n",
    "# Reset the index\n",
    "print(\"Resetting the index to return the 'Name' column back as a normal column:\")\n",
    "df_reset = df_indexed.reset_index()\n",
    "print(df_reset)\n",
    "print(\"############################################################\")\n",
    "\n",
    "# Rename columns\n",
    "print(\"Renaming the 'Department' column to 'Department_name':\")\n",
    "df_renamed = df.rename(columns={'Department': 'Department_name'})\n",
    "print(df_renamed)\n",
    "print(\"############################################################\")\n"
   ]
  },
  {
   "cell_type": "markdown",
   "id": "ce8c9a1f",
   "metadata": {},
   "source": [
    "## 8. String Operations"
   ]
  },
  {
   "cell_type": "code",
   "execution_count": null,
   "id": "8c26ec08",
   "metadata": {},
   "outputs": [],
   "source": [
    "import pandas as pd\n",
    "\n",
    "# Create a sample DataFrame for sorting and custom function application\n",
    "data = {\n",
    "    'Name': ['Alice', 'Bob', 'Charlie', 'David', 'Eva'],\n",
    "    'Age': [23, 35, 45, 22, 30],\n",
    "    'Salary': [70000, 80000, 120000, 90000, 85000],\n",
    "    'Department': ['HR', 'Finance', 'IT', 'HR', 'Finance']\n",
    "}\n",
    "\n",
    "df = pd.DataFrame(data)"
   ]
  },
  {
   "cell_type": "code",
   "execution_count": null,
   "id": "669aa2c4",
   "metadata": {},
   "outputs": [],
   "source": [
    "# Convert strings to lowercase\n",
    "print(\"Converting the 'Name' column to lowercase and storing it in a new column 'name_lower':\")\n",
    "df['name_lower'] = df['Name'].str.lower()\n",
    "print(df[['Name', 'name_lower']])\n",
    "print(\"############################################################\")\n",
    "\n",
    "# Check if strings contain a specific pattern\n",
    "print(\"Checking if the 'Department' column contains the string 'HR':\")\n",
    "contains_pattern = df['Department'].str.contains('HR')\n",
    "print(contains_pattern)\n",
    "print(\"############################################################\")\n",
    "\n",
    "# Replace occurrences of a substring\n",
    "print(\"Replacing 'HR' with 'Human Resources' in the 'Department' column and storing the result in a new column 'Department_2':\")\n",
    "df['Department_2'] = df['Department'].str.replace('HR', 'Human Resources')\n",
    "print(df[['Department', 'Department_2']])\n",
    "print(\"############################################################\")\n",
    "\n",
    "# Remove leading and trailing spaces\n",
    "print(\"Removing leading and trailing spaces from the 'Name' column and storing it in a new column 'Name_stripped':\")\n",
    "df['Name_stripped'] = df['Name'].str.strip()\n",
    "print(df[['Name', 'Name_stripped']])\n",
    "print(\"############################################################\")\n"
   ]
  },
  {
   "cell_type": "markdown",
   "id": "e6b9cf22",
   "metadata": {},
   "source": [
    "## 9. Mathematical Operations"
   ]
  },
  {
   "cell_type": "code",
   "execution_count": null,
   "id": "91ef428f",
   "metadata": {},
   "outputs": [],
   "source": [
    "import pandas as pd\n",
    "\n",
    "# Create a sample DataFrame\n",
    "data = {\n",
    "    'Product': ['A', 'B', 'C', 'D', 'E'],\n",
    "    'Sales_Q1': [150, 200, 300, 100, 250],\n",
    "    'Sales_Q2': [180, 220, 320, 110, 270]\n",
    "}\n",
    "\n",
    "df = pd.DataFrame(data)"
   ]
  },
  {
   "cell_type": "code",
   "execution_count": null,
   "id": "4ebf5333",
   "metadata": {},
   "outputs": [],
   "source": [
    "df"
   ]
  },
  {
   "cell_type": "code",
   "execution_count": null,
   "id": "0401d646",
   "metadata": {},
   "outputs": [],
   "source": [
    "# Element-wise addition (add Sales_Q1 and Sales_Q2)\n",
    "print(\"Performing element-wise addition of 'Sales_Q1' and 'Sales_Q2' to create 'Total_Sales':\")\n",
    "df['Total_Sales'] = df['Sales_Q1'] + df['Sales_Q2']\n",
    "print(df)\n",
    "print(\"############################################################\")\n",
    "\n",
    "# Cumulative sum of 'Total_Sales' (cumulative sum is a running total)\n",
    "print(\"Calculating the cumulative sum of 'Total_Sales' (running total) and storing it in 'Cumulative_Sales':\")\n",
    "df['Cumulative_Sales'] = df['Total_Sales'].cumsum()\n",
    "print(df)\n",
    "print(\"############################################################\")\n",
    "\n",
    "# Cumulative max of 'Total_Sales' (shows the max value up to this point)\n",
    "print(\"Calculating the cumulative maximum of 'Total_Sales' (the maximum value encountered so far) and storing it in 'Cumulative_Max_Sales':\")\n",
    "df['Cumulative_Max_Sales'] = df['Total_Sales'].cummax()\n",
    "print(df)\n",
    "print(\"############################################################\")\n"
   ]
  },
  {
   "cell_type": "markdown",
   "id": "d6bfbcf3",
   "metadata": {},
   "source": [
    "## 10. Visualization"
   ]
  },
  {
   "cell_type": "code",
   "execution_count": null,
   "id": "020e83d9",
   "metadata": {},
   "outputs": [],
   "source": [
    "import pandas as pd\n",
    "import matplotlib.pyplot as plt\n",
    "\n",
    "# Create a sample DataFrame\n",
    "data = {\n",
    "    'Month': ['Jan', 'Feb', 'Mar', 'Apr', 'May', 'Jun'],\n",
    "    'Sales': [200, 250, 300, 350, 400, 450],\n",
    "    'Profit': [20, 30, 50, 60, 70, 80]\n",
    "}\n",
    "\n",
    "df = pd.DataFrame(data)"
   ]
  },
  {
   "cell_type": "code",
   "execution_count": null,
   "id": "41bfa837",
   "metadata": {},
   "outputs": [],
   "source": [
    "df"
   ]
  },
  {
   "cell_type": "code",
   "execution_count": null,
   "id": "0c7784d8",
   "metadata": {},
   "outputs": [],
   "source": [
    "import matplotlib.pyplot as plt\n",
    "\n",
    "# Basic line plot (plot 'Sales' over the months)\n",
    "print(\"Creating a basic line plot for 'Sales' over the months:\")\n",
    "df['Sales'].plot()\n",
    "plt.title('Monthly Sales')\n",
    "plt.xlabel('Index')\n",
    "plt.ylabel('Sales')\n",
    "plt.show()\n",
    "print(\"############################################################\")\n",
    "\n",
    "# Scatter plot (Sales vs Profit)\n",
    "print(\"Creating a scatter plot to visualize the relationship between 'Sales' and 'Profit':\")\n",
    "df.plot(kind='scatter', x='Sales', y='Profit')\n",
    "plt.title('Sales vs Profit')\n",
    "plt.xlabel('Sales')\n",
    "plt.ylabel('Profit')\n",
    "plt.show()\n",
    "print(\"############################################################\")\n",
    "\n",
    "# Histogram of 'Sales'\n",
    "print(\"Creating a histogram to show the distribution of 'Sales':\")\n",
    "df['Sales'].plot(kind='hist')\n",
    "plt.title('Distribution of Sales')\n",
    "plt.xlabel('Sales')\n",
    "plt.show()\n",
    "print(\"############################################################\")\n"
   ]
  }
 ],
 "metadata": {
  "kernelspec": {
   "display_name": "venv",
   "language": "python",
   "name": "python3"
  },
  "language_info": {
   "codemirror_mode": {
    "name": "ipython",
    "version": 3
   },
   "file_extension": ".py",
   "mimetype": "text/x-python",
   "name": "python",
   "nbconvert_exporter": "python",
   "pygments_lexer": "ipython3",
   "version": "3.10.8"
  }
 },
 "nbformat": 4,
 "nbformat_minor": 5
}
