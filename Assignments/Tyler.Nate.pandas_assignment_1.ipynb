{
 "cells": [
  {
   "cell_type": "markdown",
   "metadata": {},
   "source": [
    "# Pandas Data Analysis Assignment\n",
    "\n",
    "### Name Here\n",
    "### Date Here\n",
    "\n",
    "## Objective\n",
    "In this assignment, you will work with a real-world dataset to practice data import, cleaning, manipulation, and exploratory data analysis (EDA) using pandas.\n",
    "\n",
    "Hint, for a lot of this, you'll also be finding yourself referencing the documents for these packages. \n",
    "\n",
    "Second Hint, these are the packages you'll be installing and importing.\n",
    "\n",
    "[Pandas](https://pandas.pydata.org/docs/user_guide/index.html#user-guide)\\\n",
    "[Numpy](https://numpy.org/doc/)\\\n",
    "[Matplotlib](https://matplotlib.org/stable/index.html)\\\n",
    "[seaborn](https://seaborn.pydata.org/index.html)\n"
   ]
  },
  {
   "cell_type": "code",
   "execution_count": 10,
   "metadata": {},
   "outputs": [],
   "source": [
    "# Import packages used. You may have to pip install some of these. \n",
    " \n",
    "\n",
    "# import the data from the superstore_sales.csv file. \n",
    "\n",
    "\n",
    "# Load the dataset as a dataframe\n",
    "\n",
    "\n",
    "# Display first 10 rows of your dataset.\n"
   ]
  },
  {
   "cell_type": "markdown",
   "metadata": {},
   "source": [
    "## Data Cleaning"
   ]
  },
  {
   "cell_type": "code",
   "execution_count": 11,
   "metadata": {},
   "outputs": [],
   "source": [
    "# Check for null values in your dataframe. In a comment, tell me where, and how many (if any) null values there are. \n"
   ]
  },
  {
   "cell_type": "code",
   "execution_count": 12,
   "metadata": {},
   "outputs": [],
   "source": [
    "# for columns with missing null values, fill the na values with values that make sense (i.e., mean/mode values, etc.)\n"
   ]
  },
  {
   "cell_type": "markdown",
   "metadata": {},
   "source": [
    "## Data Manipulation"
   ]
  },
  {
   "cell_type": "code",
   "execution_count": 13,
   "metadata": {},
   "outputs": [],
   "source": [
    "# Convert Order Date to datetime format\n",
    "\n",
    "# Create new column for Profit Margin\n",
    "\n",
    "# Extract year and month\n"
   ]
  },
  {
   "cell_type": "markdown",
   "metadata": {},
   "source": [
    "## Data Analysis"
   ]
  },
  {
   "cell_type": "code",
   "execution_count": 14,
   "metadata": {},
   "outputs": [],
   "source": [
    "# Find top 5 most profitable products\n"
   ]
  },
  {
   "cell_type": "code",
   "execution_count": 15,
   "metadata": {},
   "outputs": [],
   "source": [
    "# Find total sales and profit per region\n"
   ]
  },
  {
   "cell_type": "markdown",
   "metadata": {},
   "source": [
    "## Data Visualization"
   ]
  },
  {
   "cell_type": "code",
   "execution_count": 16,
   "metadata": {},
   "outputs": [],
   "source": [
    "# make a bar chart of total Sales by Region\n"
   ]
  },
  {
   "cell_type": "code",
   "execution_count": 17,
   "metadata": {},
   "outputs": [],
   "source": [
    "# Make a scatter plot of Sales vs Profit\n"
   ]
  },
  {
   "cell_type": "markdown",
   "metadata": {},
   "source": [
    "## Analysis\n",
    "\n",
    "In the markdown block below, give me a written analysis of your code blocks above. What is the data telling you? Are there any issues you can see with the processes that create the data? What projections, if any, can we make with our analysis to add value?"
   ]
  },
  {
   "cell_type": "markdown",
   "metadata": {},
   "source": [
    "[Analysis goes here]"
   ]
  },
  {
   "cell_type": "markdown",
   "metadata": {},
   "source": [
    "## Grading Rubric\n",
    "\n",
    "Grading overall will be on a 100-point scale. Everyone starts with 100, the final score will be determined based on point deductions related to the overall quality of your code and analysis. The expectation for code is that comments will be included as appropriate, the code is easy to read, efficient, and performs the tasks asked of you. Grading will be more lenient if you attempt more complex code or combinations of code (assuming it makes sense to do so). The analysis will be scored based on proper grammar (spelling, format, composition), and how practical and thoughtful it is. If you have any questions, think about the \"cold reader\" rule, \"Would someone with basic knowledge of this subject matter be able to read through my work in one shot without a lot of questions?\"\n",
    "\n",
    "Lastly, while collaboration on theory and methods is encouraged, DO NOT share your code line for line with your classmates. Blatant and obvious copying of any parts of your assignment will lead to deductions. This is the time to really develop your individual and analysis styles. \n",
    "\n",
    "\n"
   ]
  }
 ],
 "metadata": {
  "kernelspec": {
   "display_name": "venv",
   "language": "python",
   "name": "python3"
  },
  "language_info": {
   "codemirror_mode": {
    "name": "ipython",
    "version": 3
   },
   "file_extension": ".py",
   "mimetype": "text/x-python",
   "name": "python",
   "nbconvert_exporter": "python",
   "pygments_lexer": "ipython3",
   "version": "3.10.8"
  }
 },
 "nbformat": 4,
 "nbformat_minor": 4
}
