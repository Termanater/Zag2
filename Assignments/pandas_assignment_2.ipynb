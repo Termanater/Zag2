{
 "cells": [
  {
   "cell_type": "markdown",
   "metadata": {},
   "source": [
    "# Pandas Data Analysis Assignment - Custom Data Sets\n",
    "\n",
    "### Nate Tyler\n",
    "### 4/8/25\n",
    "\n",
    "## Objective\n",
    "In this assignment, you will work with a real-world dataset of your choosing and continue to grow your skills in data analysis using pandas.\n",
    "\n",
    "Below are some of the packages that you can utilize (pandas being required). These are linked to the documentation for your reference.\n",
    "\n",
    "[Pandas](https://pandas.pydata.org/docs/user_guide/index.html#user-guide)\\\n",
    "[Numpy](https://numpy.org/doc/)\\\n",
    "[Matplotlib](https://matplotlib.org/stable/index.html)\\\n",
    "[seaborn](https://seaborn.pydata.org/index.html)\n"
   ]
  },
  {
   "cell_type": "markdown",
   "metadata": {},
   "source": [
    "## Data Source\n",
    "\n",
    "First of all, please select a dataset for this assignment from online. There are suggested sources in the dataset ipynb file I've provided.\n"
   ]
  },
  {
   "cell_type": "code",
   "execution_count": 4,
   "metadata": {},
   "outputs": [
    {
     "name": "stdout",
     "output_type": "stream",
     "text": [
      "        player_name  player_id  season  poss    mp  raptor_box_offense  \\\n",
      "0      Alex Abrines  abrinal01    2017  2387  1135            0.745505   \n",
      "1      Alex Abrines  abrinal01    2018  2546  1244            0.317549   \n",
      "2      Alex Abrines  abrinal01    2019  1279   588           -3.215683   \n",
      "3  Precious Achiuwa  achiupr01    2021  1581   749           -4.122966   \n",
      "4  Precious Achiuwa  achiupr01    2022  3802  1892           -2.521510   \n",
      "5        Quincy Acy    acyqu01    2014  1716   847           -1.716079   \n",
      "6        Quincy Acy    acyqu01    2015  2517  1287           -2.014956   \n",
      "7        Quincy Acy    acyqu01    2016  1852   876           -0.008328   \n",
      "8        Quincy Acy    acyqu01    2017  1169   558           -0.129002   \n",
      "9        Quincy Acy    acyqu01    2018  2856  1359           -2.620032   \n",
      "\n",
      "   raptor_box_defense  raptor_box_total  raptor_onoff_offense  \\\n",
      "0           -0.372938          0.372567             -0.418553   \n",
      "1           -1.725325         -1.407776             -1.291727   \n",
      "2            1.078399         -2.137285             -6.158856   \n",
      "3            1.359278         -2.763688             -4.050779   \n",
      "4            1.763502         -0.758008             -1.687893   \n",
      "5            0.133115         -1.582964             -0.324811   \n",
      "6           -1.268440         -3.283396             -3.855207   \n",
      "7            0.340783          0.332456             -2.798490   \n",
      "8            0.444339          0.315337             -1.345267   \n",
      "9           -0.806269         -3.426301              0.055170   \n",
      "\n",
      "   raptor_onoff_defense  ...  raptor_offense  raptor_defense  raptor_total  \\\n",
      "0             -3.857011  ...        0.543421       -1.144832     -0.601411   \n",
      "1             -0.049694  ...       -0.020826       -1.502642     -1.523468   \n",
      "2              4.901168  ...       -4.040157        1.885618     -2.154538   \n",
      "3             -0.919712  ...       -4.347596        0.954821     -3.392775   \n",
      "4              3.103441  ...       -2.517372        2.144151     -0.373221   \n",
      "5             -1.661495  ...       -1.565257       -0.216477     -1.781734   \n",
      "6              2.803842  ...       -2.456065       -0.420948     -2.877013   \n",
      "7              0.130301  ...       -0.587540        0.353933     -0.233607   \n",
      "8              0.806701  ...       -0.343630        0.576150      0.232520   \n",
      "9             -0.019195  ...       -2.208182       -0.658814     -2.866997   \n",
      "\n",
      "   war_total  war_reg_season  war_playoffs  predator_offense  \\\n",
      "0   1.249008        1.447708     -0.198700          0.077102   \n",
      "1   0.777304        0.465912      0.311392         -0.174621   \n",
      "2   0.178167        0.178167      0.000000         -4.577678   \n",
      "3  -0.246055       -0.246776      0.000721         -3.817713   \n",
      "4   2.262658        2.309611     -0.046953         -2.483956   \n",
      "5   0.415918        0.415918      0.000000         -1.464417   \n",
      "6  -0.083313       -0.083313      0.000000         -2.797224   \n",
      "7   1.123479        1.123479      0.000000         -1.406108   \n",
      "8   0.835632        0.835632      0.000000         -0.922087   \n",
      "9  -0.081232       -0.081232      0.000000         -1.826813   \n",
      "\n",
      "   predator_defense  predator_total  pace_impact  \n",
      "0         -1.038677       -0.961575     0.326413  \n",
      "1         -1.112625       -1.287247    -0.456141  \n",
      "2          1.543282       -3.034396    -0.268013  \n",
      "3          0.474828       -3.342885     0.329157  \n",
      "4          2.024360       -0.459596    -0.728609  \n",
      "5         -0.223754       -1.688171    -0.554898  \n",
      "6         -1.648024       -4.445248    -0.100454  \n",
      "7          0.021970       -1.384138    -0.102988  \n",
      "8         -0.059177       -0.981264     0.125008  \n",
      "9         -0.890246       -2.717059     0.136139  \n",
      "\n",
      "[10 rows x 21 columns]\n"
     ]
    }
   ],
   "source": [
    "# Import packages used. You may have to pip install some of these. \n",
    "import pandas as pd\n",
    "import numpy as np\n",
    "import matplotlib.pyplot as plt\n",
    "import seaborn as sns\n",
    "\n",
    "# import the dataset. \n",
    "df = pd.read_csv('modern_RAPTOR_by_player.csv')\n",
    "\n",
    "# Load the dataset as a dataframe\n",
    "\n",
    "\n",
    "# Display first 10 rows of your dataset.\n",
    "print(df.head(10))"
   ]
  },
  {
   "cell_type": "markdown",
   "metadata": {},
   "source": [
    "## Data Cleaning & Exploration"
   ]
  },
  {
   "cell_type": "code",
   "execution_count": null,
   "metadata": {},
   "outputs": [
    {
     "name": "stdout",
     "output_type": "stream",
     "text": [
      "(4685, 21)\n",
      "<class 'pandas.core.frame.DataFrame'>\n",
      "RangeIndex: 4685 entries, 0 to 4684\n",
      "Data columns (total 21 columns):\n",
      " #   Column                Non-Null Count  Dtype  \n",
      "---  ------                --------------  -----  \n",
      " 0   player_name           4685 non-null   object \n",
      " 1   player_id             4685 non-null   object \n",
      " 2   season                4685 non-null   int64  \n",
      " 3   poss                  4685 non-null   int64  \n",
      " 4   mp                    4685 non-null   int64  \n",
      " 5   raptor_box_offense    4684 non-null   float64\n",
      " 6   raptor_box_defense    4684 non-null   float64\n",
      " 7   raptor_box_total      4684 non-null   float64\n",
      " 8   raptor_onoff_offense  4684 non-null   float64\n",
      " 9   raptor_onoff_defense  4684 non-null   float64\n",
      " 10  raptor_onoff_total    4684 non-null   float64\n",
      " 11  raptor_offense        4685 non-null   float64\n",
      " 12  raptor_defense        4685 non-null   float64\n",
      " 13  raptor_total          4685 non-null   float64\n",
      " 14  war_total             4685 non-null   float64\n",
      " 15  war_reg_season        4685 non-null   float64\n",
      " 16  war_playoffs          4685 non-null   float64\n",
      " 17  predator_offense      4685 non-null   float64\n",
      " 18  predator_defense      4685 non-null   float64\n",
      " 19  predator_total        4685 non-null   float64\n",
      " 20  pace_impact           4684 non-null   float64\n",
      "dtypes: float64(16), int64(3), object(2)\n",
      "memory usage: 768.8+ KB\n",
      "player_name             0\n",
      "player_id               0\n",
      "season                  0\n",
      "poss                    0\n",
      "mp                      0\n",
      "raptor_box_offense      1\n",
      "raptor_box_defense      1\n",
      "raptor_box_total        1\n",
      "raptor_onoff_offense    1\n",
      "raptor_onoff_defense    1\n",
      "raptor_onoff_total      1\n",
      "raptor_offense          0\n",
      "raptor_defense          0\n",
      "raptor_total            0\n",
      "war_total               0\n",
      "war_reg_season          0\n",
      "war_playoffs            0\n",
      "predator_offense        0\n",
      "predator_defense        0\n",
      "predator_total          0\n",
      "pace_impact             1\n",
      "dtype: int64\n"
     ]
    }
   ],
   "source": [
    "# Analyze your data (show in outputs) and clean the data as is appropriate.\n",
    "print(df.shape)\n",
    "df.info()\n",
    "null_count = df.isnull().sum()\n",
    "print(null_count)\n"
   ]
  },
  {
   "cell_type": "code",
   "execution_count": 19,
   "metadata": {},
   "outputs": [],
   "source": [
    "df_clean = df.dropna(subset=['raptor_total', 'mp'])"
   ]
  },
  {
   "cell_type": "code",
   "execution_count": 3,
   "metadata": {},
   "outputs": [],
   "source": [
    "# Tell me about the data after you've cleaned it up. Show what data types are in the dataset, also show how many rows and columns are in the data set.\n",
    "# \n",
    "# Ive just dropped all the null values in what I have determined as key columns, Im trying to find the most efficent player.So the raptor total is total effect per 100 possesions (both office and defense)\n",
    "#MP = Minutes played "
   ]
  },
  {
   "cell_type": "markdown",
   "metadata": {},
   "source": [
    "## Data Manipulation"
   ]
  },
  {
   "cell_type": "code",
   "execution_count": 20,
   "metadata": {},
   "outputs": [
    {
     "name": "stdout",
     "output_type": "stream",
     "text": [
      "        player_name  player_id  season  poss    mp  raptor_box_offense  \\\n",
      "0      Alex Abrines  abrinal01    2017  2387  1135            0.745505   \n",
      "1      Alex Abrines  abrinal01    2018  2546  1244            0.317549   \n",
      "2      Alex Abrines  abrinal01    2019  1279   588           -3.215683   \n",
      "3  Precious Achiuwa  achiupr01    2021  1581   749           -4.122966   \n",
      "4  Precious Achiuwa  achiupr01    2022  3802  1892           -2.521510   \n",
      "\n",
      "   raptor_box_defense  raptor_box_total  raptor_onoff_offense  \\\n",
      "0           -0.372938          0.372567             -0.418553   \n",
      "1           -1.725325         -1.407776             -1.291727   \n",
      "2            1.078399         -2.137285             -6.158856   \n",
      "3            1.359278         -2.763688             -4.050779   \n",
      "4            1.763502         -0.758008             -1.687893   \n",
      "\n",
      "   raptor_onoff_defense  ...  raptor_offense  raptor_defense  raptor_total  \\\n",
      "0             -3.857011  ...        0.543421       -1.144832     -0.601411   \n",
      "1             -0.049694  ...       -0.020826       -1.502642     -1.523468   \n",
      "2              4.901168  ...       -4.040157        1.885618     -2.154538   \n",
      "3             -0.919712  ...       -4.347596        0.954821     -3.392775   \n",
      "4              3.103441  ...       -2.517372        2.144151     -0.373221   \n",
      "\n",
      "   war_total  war_reg_season  war_playoffs  predator_offense  \\\n",
      "0   1.249008        1.447708     -0.198700          0.077102   \n",
      "1   0.777304        0.465912      0.311392         -0.174621   \n",
      "2   0.178167        0.178167      0.000000         -4.577678   \n",
      "3  -0.246055       -0.246776      0.000721         -3.817713   \n",
      "4   2.262658        2.309611     -0.046953         -2.483956   \n",
      "\n",
      "   predator_defense  predator_total  pace_impact  \n",
      "0         -1.038677       -0.961575     0.326413  \n",
      "1         -1.112625       -1.287247    -0.456141  \n",
      "2          1.543282       -3.034396    -0.268013  \n",
      "3          0.474828       -3.342885     0.329157  \n",
      "4          2.024360       -0.459596    -0.728609  \n",
      "\n",
      "[5 rows x 21 columns]\n"
     ]
    }
   ],
   "source": [
    "# Add at least two additional features to your data (additional calculated columns) to be used in your analysis.\n",
    "df_clean['avg_minutes_per_game'] = df_clean['mp'] / (df_clean['poss'] / 100) #showing average minutes per game\n",
    "df_clean['pace_adjusted_raptor'] = df_clean['raptor_total'] / (1 + df_clean['pace_impact']) # showing how the player affects pace of game\n",
    "\n",
    "print(df.head())"
   ]
  },
  {
   "cell_type": "markdown",
   "metadata": {},
   "source": [
    "## Data Analysis"
   ]
  },
  {
   "cell_type": "code",
   "execution_count": null,
   "metadata": {},
   "outputs": [],
   "source": [
    "# Perform your analysis here. Your analysis should thoughtful, and provide at least two insights that are not obvious when looking at the dataframe. "
   ]
  },
  {
   "cell_type": "markdown",
   "metadata": {},
   "source": [
    "## Data Visualization"
   ]
  },
  {
   "cell_type": "code",
   "execution_count": null,
   "metadata": {},
   "outputs": [],
   "source": [
    "# Bolster your analysis with at least two visualizations.\n"
   ]
  },
  {
   "cell_type": "markdown",
   "metadata": {},
   "source": [
    "## Analysis\n",
    "\n",
    "In the markdown block below, give me a written analysis of your code blocks above. This is the area to provide written responses to accompany your work in the Data Analysis and Data Visualization coding you did above. "
   ]
  },
  {
   "cell_type": "markdown",
   "metadata": {},
   "source": [
    "[Analysis goes here]"
   ]
  },
  {
   "cell_type": "markdown",
   "metadata": {},
   "source": [
    "## Grading Rubric\n",
    "\n",
    "Grading overall will be on a 100-point scale. Everyone starts with 100, the final score will be determined based on point deductions related to the overall quality of your code and analysis. The expectation for code is that comments will be included as appropriate, the code is easy to read, efficient, and performs the tasks asked of you. Grading will be more lenient if you attempt more complex code or combinations of code (assuming it makes sense to do so). The analysis will be scored based on proper grammar (spelling, format, composition), and how practical and thoughtful it is. If you have any questions, think about the \"cold reader\" rule, \"Would someone with basic knowledge of this subject matter be able to read through my work in one shot without a lot of questions?\"\n",
    "\n",
    "Lastly, while collaboration on theory and methods is encouraged, DO NOT share your code line for line with your classmates. Blatant and obvious copying of any parts of your assignment will lead to deductions. This is the time to really develop your individual and analysis styles. \n",
    "\n",
    "\n"
   ]
  }
 ],
 "metadata": {
  "kernelspec": {
   "display_name": "venv",
   "language": "python",
   "name": "python3"
  },
  "language_info": {
   "codemirror_mode": {
    "name": "ipython",
    "version": 3
   },
   "file_extension": ".py",
   "mimetype": "text/x-python",
   "name": "python",
   "nbconvert_exporter": "python",
   "pygments_lexer": "ipython3",
   "version": "3.10.8"
  }
 },
 "nbformat": 4,
 "nbformat_minor": 4
}
