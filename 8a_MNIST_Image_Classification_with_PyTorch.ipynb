{
 "cells": [
  {
   "cell_type": "markdown",
   "id": "5409fda3",
   "metadata": {},
   "source": [
    "# MNIST Image Classification with a Neural Network (PyTorch)"
   ]
  },
  {
   "cell_type": "markdown",
   "id": "76ea5c4c",
   "metadata": {},
   "source": [
    "\n",
    "This notebook demonstrates the power of **PyTorch** and neural networks for image classification on the **MNIST dataset**. \n",
    "We will build a simple neural network to classify handwritten digits (0-9) from MNIST images. This example showcases \n",
    "how neural networks can learn patterns from raw image data and make accurate predictions.\n",
    "\n",
    "The process involves:\n",
    "1. Loading the MNIST dataset.\n",
    "2. Defining a neural network model.\n",
    "3. Training the model on the dataset.\n",
    "4. Evaluating the model's accuracy.\n",
    "5. Visualizing predictions to see the network's performance.\n",
    "\n",
    "Let's get started!\n"
   ]
  },
  {
   "cell_type": "code",
   "execution_count": 1,
   "id": "3865a6f3",
   "metadata": {},
   "outputs": [],
   "source": [
    "\n",
    "import torch\n",
    "import torch.nn as nn\n",
    "import torch.optim as optim\n",
    "import torchvision\n",
    "import torchvision.transforms as transforms\n",
    "import matplotlib.pyplot as plt\n",
    "\n",
    "# Define transformations for the dataset\n",
    "transform = transforms.Compose([transforms.ToTensor(), transforms.Normalize((0.5,), (0.5,))])\n",
    "\n",
    "# Load the MNIST training and test datasets\n",
    "trainset = torchvision.datasets.MNIST(root='./data', train=True, download=True, transform=transform)\n",
    "trainloader = torch.utils.data.DataLoader(trainset, batch_size=64, shuffle=True)\n",
    "\n",
    "testset = torchvision.datasets.MNIST(root='./data', train=False, download=True, transform=transform)\n",
    "testloader = torch.utils.data.DataLoader(testset, batch_size=64, shuffle=False)\n"
   ]
  },
  {
   "cell_type": "markdown",
   "id": "d92e15a2",
   "metadata": {},
   "source": [
    "## Define the Neural Network Model"
   ]
  },
  {
   "cell_type": "code",
   "execution_count": 2,
   "id": "4f22a9bd",
   "metadata": {},
   "outputs": [],
   "source": [
    "\n",
    "class SimpleNN(nn.Module):\n",
    "    def __init__(self):\n",
    "        super(SimpleNN, self).__init__()\n",
    "        self.layer1 = nn.Linear(28 * 28, 128)\n",
    "        self.layer2 = nn.Linear(128, 64)\n",
    "        self.layer3 = nn.Linear(64, 10)\n",
    "\n",
    "    def forward(self, x):\n",
    "        x = x.view(-1, 28 * 28)  # Flatten the image\n",
    "        x = torch.relu(self.layer1(x))\n",
    "        x = torch.relu(self.layer2(x))\n",
    "        x = self.layer3(x)\n",
    "        return x\n",
    "\n",
    "# Initialize the neural network, loss function, and optimizer\n",
    "model = SimpleNN()\n",
    "criterion = nn.CrossEntropyLoss()\n",
    "optimizer = optim.SGD(model.parameters(), lr=0.01)\n"
   ]
  },
  {
   "cell_type": "markdown",
   "id": "bff0b75d",
   "metadata": {},
   "source": [
    "## Train the Model"
   ]
  },
  {
   "cell_type": "code",
   "execution_count": 3,
   "id": "5323dc03",
   "metadata": {},
   "outputs": [
    {
     "name": "stdout",
     "output_type": "stream",
     "text": [
      "Epoch 1/5, Loss: 1.0904985992257783\n",
      "Epoch 2/5, Loss: 0.3949735839324974\n",
      "Epoch 3/5, Loss: 0.3286885799709032\n",
      "Epoch 4/5, Loss: 0.2949009775591176\n",
      "Epoch 5/5, Loss: 0.26941936072319556\n"
     ]
    }
   ],
   "source": [
    "\n",
    "# Training loop\n",
    "epochs = 5\n",
    "for epoch in range(epochs):\n",
    "    running_loss = 0.0\n",
    "    for images, labels in trainloader:\n",
    "        optimizer.zero_grad()               # Reset gradients\n",
    "        outputs = model(images)             # Forward pass\n",
    "        loss = criterion(outputs, labels)   # Calculate loss\n",
    "        loss.backward()                     # Backpropagate\n",
    "        optimizer.step()                    # Update weights\n",
    "\n",
    "        running_loss += loss.item()\n",
    "\n",
    "    print(f\"Epoch {epoch+1}/{epochs}, Loss: {running_loss/len(trainloader)}\")\n"
   ]
  },
  {
   "cell_type": "markdown",
   "id": "da8e3285",
   "metadata": {},
   "source": [
    "## Evaluate the Model"
   ]
  },
  {
   "cell_type": "code",
   "execution_count": 4,
   "id": "76d7e34b",
   "metadata": {},
   "outputs": [
    {
     "name": "stdout",
     "output_type": "stream",
     "text": [
      "Test Accuracy: 92.55%\n"
     ]
    }
   ],
   "source": [
    "\n",
    "# Evaluate the model on the test dataset\n",
    "correct = 0\n",
    "total = 0\n",
    "with torch.no_grad():  # No need to calculate gradients during evaluation\n",
    "    for images, labels in testloader:\n",
    "        outputs = model(images)\n",
    "        _, predicted = torch.max(outputs, 1)\n",
    "        total += labels.size(0)\n",
    "        correct += (predicted == labels).sum().item()\n",
    "\n",
    "accuracy = correct / total\n",
    "print(f\"Test Accuracy: {accuracy * 100:.2f}%\")\n"
   ]
  },
  {
   "cell_type": "markdown",
   "id": "fae3799f",
   "metadata": {},
   "source": [
    "## Visualize Some Predictions"
   ]
  },
  {
   "cell_type": "code",
   "execution_count": 5,
   "id": "d58da07e",
   "metadata": {},
   "outputs": [
    {
     "data": {
      "image/png": "[encoded data removed]",
      "text/plain": [
       "<Figure size 1000x200 with 5 Axes>"
      ]
     },
     "metadata": {},
     "output_type": "display_data"
    }
   ],
   "source": [
    "# Function to visualize predictions\n",
    "def visualize_predictions():\n",
    "    dataiter = iter(testloader)\n",
    "    images, labels = next(dataiter)  # Use next(dataiter) instead of dataiter.next()\n",
    "    \n",
    "    # Get predictions\n",
    "    with torch.no_grad():\n",
    "        outputs = model(images)\n",
    "        _, predicted = torch.max(outputs, 1)\n",
    "\n",
    "    # Display images and predictions\n",
    "    fig, axes = plt.subplots(1, 5, figsize=(10, 2))\n",
    "    for i in range(5):\n",
    "        axes[i].imshow(images[i].reshape(28, 28), cmap='gray')\n",
    "        axes[i].set_title(f'Pred: {predicted[i].item()}')\n",
    "        axes[i].axis('off')\n",
    "    plt.show()\n",
    "\n",
    "# Visualize predictions\n",
    "visualize_predictions()\n"
   ]
  },
  {
   "cell_type": "markdown",
   "id": "f3411340",
   "metadata": {},
   "source": [
    "\n",
    "### Summary\n",
    "\n",
    "In this notebook, we built a simple neural network with PyTorch to classify images from the MNIST dataset. \n",
    "We trained the model, evaluated its accuracy, and visualized some predictions. This example shows the power \n",
    "of neural networks in recognizing patterns in image data and highlights PyTorch's ease of use for building \n",
    "and training models.\n",
    "\n",
    "Key takeaways:\n",
    "- **Neural networks** can recognize patterns in complex data like images without manual feature engineering.\n",
    "- **PyTorch** simplifies defining and training neural networks, allowing experimentation with different architectures.\n",
    "- **Visualization** helps in understanding the model’s predictions and assessing its performance.\n",
    "\n",
    "This is just a starting point; you can experiment further by adding more layers or using different architectures to improve accuracy.\n"
   ]
  }
 ],
 "metadata": {
  "kernelspec": {
   "display_name": "venv",
   "language": "python",
   "name": "python3"
  },
  "language_info": {
   "codemirror_mode": {
    "name": "ipython",
    "version": 3
   },
   "file_extension": ".py",
   "mimetype": "text/x-python",
   "name": "python",
   "nbconvert_exporter": "python",
   "pygments_lexer": "ipython3",
   "version": "3.10.8"
  }
 },
 "nbformat": 4,
 "nbformat_minor": 5
}
