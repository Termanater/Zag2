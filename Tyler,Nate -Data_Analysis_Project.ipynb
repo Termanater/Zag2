{
 "cells": [
  {
   "cell_type": "markdown",
   "id": "0bb18b2e",
   "metadata": {},
   "source": [
    "\n",
    "# Data Analysis Project\n",
    "\n",
    "**Students Names:** Nate Tyler <br>\n",
    "**Course Name:** \n",
    "<br>\n",
    "**Date:** 5/2/25 <br>\n",
    "\n",
    "---\n",
    "\n",
    "### Project Overview\n",
    "\n",
    "In this project, you will work in a team of two and utilize what we have learned in this class to preform an analysis on a dataset. \n",
    "\n",
    "The data you choose is up to you! I encourage you to select a dataset that fits your area of expertise. Some of the resources for datasets are listed below. Note that these are just resources I've used in the past. You are not limited to these resources, but it's a place to start.<br>\n",
    "    <br>\n",
    "    - [kaggle](https://www.kaggle.com/datasets)<br>\n",
    "    - [data.gov](https://data.gov/)<br>\n",
    "    - [google datasets](https://datasetsearch.research.google.com/)<br>\n",
    "    - [SEC datasets](https://www.sec.gov/data-research/sec-markets-data/financial-statement-data-sets)<br>\n",
    "    - [dataquest](https://www.dataquest.io/blog/free-datasets-for-projects/)<br>\n",
    "\n",
    "Your dataset must have at LEAST 10,000 rows of data. Additionally, it should have enough attributes to allow for a meaningful analysis and level of complexity (e.g., a dataset with just two columns for \"name\" and \"birthdate\" likely is not going to be enough.)\n",
    "\n",
    "Once you have selected a dataset, you will be required to perform an analysis\n",
    "\n",
    " with a large dataset of at least 10,000 rows. The goal is to:\n",
    "- Import and explore the dataset.\n",
    "- Clean and prepare the data for analysis.\n",
    "- Derive at least 6 key insights from the data using Python and Python libraries. You are welcome to add more coding blocks and more insights. \n",
    "- Communicate these insights clearly, professionally, and explain how they can inform decision-making.\n",
    "\n",
    "---\n",
    "\n",
    "If you and your group want to utilize the power of Github and use branches, here is the [documentation](https://docs.github.com/en/pull-requests/collaborating-with-pull-requests/proposing-changes-to-your-work-with-pull-requests/about-branches) on how to do so.\n",
    "\n",
    "The cells below are a guide. Feel free to add code or markdown cells as necessary. "
   ]
  },
  {
   "cell_type": "markdown",
   "id": "2fb24ed6",
   "metadata": {},
   "source": [
    "## 1. Importing Necessary Libraries"
   ]
  },
  {
   "cell_type": "code",
   "execution_count": 4,
   "id": "f3066431",
   "metadata": {},
   "outputs": [],
   "source": [
    "# Code block to import libraries\n",
    "import pandas as pd\n",
    "import numpy as np\n",
    "import seaborn as sns\n",
    "import matplotlib.pyplot as plt\n",
    "import statistics as stats\n"
   ]
  },
  {
   "cell_type": "markdown",
   "id": "afdc46e7",
   "metadata": {},
   "source": [
    "\n",
    "## 2. Loading the Dataset\n",
    "\n",
    "Load your dataset here. Make sure the dataset has at least 10,000 rows.\n"
   ]
  },
  {
   "cell_type": "code",
   "execution_count": 5,
   "id": "cbb1ac66",
   "metadata": {},
   "outputs": [],
   "source": [
    "# Code block to load the dataset\n",
    "df = pd.read_csv('HopitalProviderCostReport_2022_FinalProject.csv')\n"
   ]
  },
  {
   "cell_type": "markdown",
   "id": "b78ea3b0",
   "metadata": {},
   "source": [
    "\n",
    "## 3. Data Exploration\n",
    "\n",
    "Explore the dataset by checking its dimensions, data types, and any missing values.\n"
   ]
  },
  {
   "cell_type": "code",
   "execution_count": 29,
   "id": "5b8b0a6c",
   "metadata": {},
   "outputs": [
    {
     "name": "stdout",
     "output_type": "stream",
     "text": [
      "Data Set Info:\n",
      "Initial Dataset Shape: (6064, 117)\n",
      "<class 'pandas.core.frame.DataFrame'>\n",
      "RangeIndex: 6064 entries, 0 to 6063\n",
      "Columns: 117 entries, rpt_rec_num to Stand-Alone CHIP Charges\n",
      "dtypes: float64(103), int64(4), object(10)\n",
      "memory usage: 5.4+ MB\n",
      "Total number of null values in the dataset: 205738\n",
      "\n",
      "Null counts per column:\n",
      "rpt_rec_num                             0\n",
      "Provider CCN                            0\n",
      "Hospital Name                           0\n",
      "Street Address                          3\n",
      "City                                    0\n",
      "                                     ... \n",
      "Cost To Charge Ratio                 1464\n",
      "Net Revenue from Medicaid            1679\n",
      "Medicaid Charges                     1691\n",
      "Net Revenue from Stand-Alone CHIP    5078\n",
      "Stand-Alone CHIP Charges             5058\n",
      "Length: 117, dtype: int64\n",
      "Percent of Nulls in data sheet: 0.29\n"
     ]
    }
   ],
   "source": [
    "# Code block for data exploration\n",
    "print('Data Set Info:')\n",
    "#print(df.head()) #Shows 5 rows \n",
    "\n",
    "#This gives me the shape of the data set and shows the null values. How many & where theyre located. \n",
    "print(f\"Initial Dataset Shape: {df.shape}\") #Shows me I have 6,064 rows and 117 Colunns \n",
    "df.info()\n",
    "# Calculate total nulls\n",
    "total_nulls = df.isnull().sum().sum()\n",
    "\n",
    "print(f\"Total number of null values in the dataset: {total_nulls}\") #I have 205,738 Null values accrossed the whole sheet\n",
    "\n",
    "#nulls per column \n",
    "print(\"\\nNull counts per column:\")\n",
    "print(df.isnull().sum())\n",
    "\n",
    "#Show what percent of the sheet is null values\n",
    "null_percent = total_nulls/ (6064*117)\n",
    "print(f'Percent of Nulls in data sheet: {null_percent:.2f}')\n",
    "\n",
    "#There are nearly all the types of data types present in this data set. We have Floats, Integers and objects \n"
   ]
  },
  {
   "cell_type": "markdown",
   "id": "5b434659",
   "metadata": {},
   "source": [
    "\n",
    "**Guiding Questions:**\n",
    "- What columns are available in the data?\n",
    "- Are there any columns with missing values?\n",
    "- What data types are present?\n"
   ]
  },
  {
   "cell_type": "markdown",
   "id": "fa7f9602",
   "metadata": {},
   "source": [
    "***INSIGHTS TO INVESTIGATE*** <br>\n",
    "1. Total Costs by Rural vs. Urban<br>\n",
    "2. Net Income by State Code<br>\n",
    "3. Net Income by CCN Facility Type<br>\n",
    "4. Total Salaries by State Code<br>\n",
    "5. Cost of Charity Care by CCN Facility Type"
   ]
  },
  {
   "cell_type": "markdown",
   "id": "2fc4974d",
   "metadata": {},
   "source": [
    "\n",
    "## 4. Data Cleaning/Engineering\n",
    "\n",
    "Clean the data to ensure consistency and handle any missing values or outliers. Also use this space to add attributes that bolster your analysis. \n"
   ]
  },
  {
   "cell_type": "code",
   "execution_count": 7,
   "id": "2ff17c2b",
   "metadata": {},
   "outputs": [],
   "source": [
    "# Code block for data cleaning/engineering\n",
    "#Fix Categorical Data/nulls\n",
    "\n",
    "categorical_data = [' Rural Versus Urban', 'State Code', 'CCN Facility Type']\n",
    "for col in categorical_data:\n",
    "    df[col] = df[col].fillna('Unknown') #Filling with unknown beacuse I dont want to drop any colunms or rows\n",
    "\n",
    "#Replace numeric data with medians \n",
    "numeric_data = ['Total Costs', 'Net Income', 'Total Salaries From Worksheet A', 'Cost of Charity Care', 'Number of Beds']\n",
    "for col in numeric_data:\n",
    "    medianvalues = df[col].median\n",
    "    df[col] = df[col].fillna(medianvalues)\n",
    "\n",
    "#Change numeric to floats for later math \n",
    "for col in numeric_data:\n",
    "    df[col] = pd.to_numeric(df[col], errors='coerce').fillna(df[col].median())\n",
    "\n",
    "# Convert categorical columns to string\n",
    "for col in categorical_data:\n",
    "    df[col] = df[col].astype(str)"
   ]
  },
  {
   "cell_type": "markdown",
   "id": "91aae287",
   "metadata": {},
   "source": [
    "\n",
    "**Instructions:**\n",
    "- Describe each cleaning step you take.\n",
    "- Add any other attributes to improve your analysis. \n",
    "- Explain how these changes will improve the analysis.\n"
   ]
  },
  {
   "cell_type": "markdown",
   "id": "b856705c",
   "metadata": {},
   "source": [
    "\n",
    "## 5. Data Visualization\n",
    "\n",
    "Use visualization to better understand the data and spot trends. Include at least two visualizations.\n"
   ]
  },
  {
   "cell_type": "code",
   "execution_count": 8,
   "id": "80e08531",
   "metadata": {},
   "outputs": [],
   "source": [
    "# Code block for visualization 1\n"
   ]
  },
  {
   "cell_type": "code",
   "execution_count": 9,
   "id": "1baa1222",
   "metadata": {},
   "outputs": [],
   "source": [
    "# Code block for visualization 2"
   ]
  },
  {
   "cell_type": "markdown",
   "id": "c4d36bed",
   "metadata": {},
   "source": [
    "\n",
    "**Guiding Questions:**\n",
    "- What patterns do you see?\n",
    "- How can these patterns contribute to further insights?\n"
   ]
  },
  {
   "cell_type": "markdown",
   "id": "928959d5",
   "metadata": {},
   "source": [
    "\n",
    "## 6. Deriving Insights\n",
    "\n",
    "In this section, derive six insights from the data. Each insight should have:\n",
    "- A brief description of what you are examining.\n",
    "- The code used to calculate or visualize it.\n",
    "- A short analysis of the results and how they contribute to understanding the data.\n",
    "- Visuals can be used to aid your insights as well."
   ]
  },
  {
   "cell_type": "markdown",
   "id": "27e099e9",
   "metadata": {},
   "source": [
    "\n",
    "### Insight 1\n",
    "\n",
    "**Insight Description:** _[Describe what you are trying to learn from this analysis.]_ <br>\n",
    "**Analysis:** _[Describe what this insight tells you and how it can inform decisions.]_<br>\n"
   ]
  },
  {
   "cell_type": "code",
   "execution_count": 10,
   "id": "4e9f9447",
   "metadata": {},
   "outputs": [],
   "source": [
    "# Code for Insight"
   ]
  },
  {
   "cell_type": "markdown",
   "id": "aaf16dd1",
   "metadata": {},
   "source": [
    "\n",
    "### Insight 2\n",
    "\n",
    "**Insight Description:** _[Describe what you are trying to learn from this analysis.]_ <br>\n",
    "**Analysis:** _[Describe what this insight tells you and how it can inform decisions.]_<br>\n"
   ]
  },
  {
   "cell_type": "code",
   "execution_count": 11,
   "id": "5dc1b35a",
   "metadata": {},
   "outputs": [],
   "source": [
    "# Code for Insight"
   ]
  },
  {
   "cell_type": "markdown",
   "id": "8a69d860",
   "metadata": {},
   "source": [
    "\n",
    "### Insight 3\n",
    "\n",
    "**Insight Description:** _[Describe what you are trying to learn from this analysis.]_ <br>\n",
    "**Analysis:** _[Describe what this insight tells you and how it can inform decisions.]_<br>"
   ]
  },
  {
   "cell_type": "code",
   "execution_count": 12,
   "id": "2dce6a7f",
   "metadata": {},
   "outputs": [],
   "source": [
    "# Code for Insight"
   ]
  },
  {
   "cell_type": "markdown",
   "id": "d8a11eaa",
   "metadata": {},
   "source": [
    "\n",
    "### Insight 4\n",
    "\n",
    "**Insight Description:** _[Describe what you are trying to learn from this analysis.]_ <br>\n",
    "**Analysis:** _[Describe what this insight tells you and how it can inform decisions.]_<br>"
   ]
  },
  {
   "cell_type": "code",
   "execution_count": 13,
   "id": "826110a1",
   "metadata": {},
   "outputs": [],
   "source": [
    "# Code for Insight"
   ]
  },
  {
   "cell_type": "markdown",
   "id": "520dc770",
   "metadata": {},
   "source": [
    "\n",
    "### Insight 5\n",
    "\n",
    "**Insight Description:** _[Describe what you are trying to learn from this analysis.]_ <br>\n",
    "**Analysis:** _[Describe what this insight tells you and how it can inform decisions.]_<br>"
   ]
  },
  {
   "cell_type": "code",
   "execution_count": 14,
   "id": "4938aed5",
   "metadata": {},
   "outputs": [],
   "source": [
    "# Code for Insight "
   ]
  },
  {
   "cell_type": "markdown",
   "id": "ad2db7f6",
   "metadata": {},
   "source": [
    "\n",
    "### Insight 6\n",
    "\n",
    "**Insight Description:** _[Describe what you are trying to learn from this analysis.]_ <br>\n",
    "**Analysis:** _[Describe what this insight tells you and how it can inform decisions.]_<br>\n"
   ]
  },
  {
   "cell_type": "code",
   "execution_count": 15,
   "id": "0d8255d9",
   "metadata": {},
   "outputs": [],
   "source": [
    "# Code for Insight"
   ]
  },
  {
   "cell_type": "markdown",
   "id": "6acf59f5",
   "metadata": {},
   "source": [
    "If a group of 3, put insights 7-9 below."
   ]
  },
  {
   "cell_type": "markdown",
   "id": "0d68ce6f",
   "metadata": {},
   "source": [
    "\n",
    "## 7. Summary and Conclusions\n",
    "\n",
    "Summarize your findings and highlight the most impactful insights you derived from the data.\n",
    "\n",
    "**Guiding Questions:**\n",
    "- What key takeaways did you learn from this data?\n",
    "- How can these insights inform future decisions?\n",
    "- Are there any limitations in your analysis?\n"
   ]
  },
  {
   "cell_type": "markdown",
   "id": "6c24062d",
   "metadata": {},
   "source": [
    "**Insight Description:** _[Describe what you are trying to learn from this analysis.]_ <br>\n",
    "**Analysis:** _[Describe what this insight tells you and how it can inform decisions.]_<br>"
   ]
  },
  {
   "cell_type": "markdown",
   "id": "86f73880",
   "metadata": {},
   "source": []
  },
  {
   "cell_type": "markdown",
   "id": "d745c89b",
   "metadata": {},
   "source": [
    "\n",
    "## 8. Projections\n",
    "\n",
    "Finally, tell us something that can be learned from this analysis to make better decisions going forward. "
   ]
  },
  {
   "cell_type": "markdown",
   "id": "d466af34",
   "metadata": {},
   "source": [
    "**Insight Description:** _[Describe what you are trying to learn from this analysis.]_ <br>\n",
    "**Analysis:** _[Describe what this insight tells you and how it can inform decisions.]_<br>"
   ]
  },
  {
   "cell_type": "markdown",
   "id": "13198b97",
   "metadata": {},
   "source": []
  },
  {
   "cell_type": "markdown",
   "id": "eee05150",
   "metadata": {},
   "source": [
    "\n",
    "**Instructions for Submission:**\n",
    "\n",
    "- Submit the completed `.ipynb` file, dataset, and link to dataset in Canvas. (link only is fine if dataset is too big)\n"
   ]
  },
  {
   "cell_type": "markdown",
   "id": "cf44baab",
   "metadata": {},
   "source": [
    "## Grading Critiria\n",
    "\n",
    "Below are some of the critiria that I will be using when grading the final case. Keep in mind, no one part has a specific weight."
   ]
  },
  {
   "cell_type": "markdown",
   "id": "e6bc06b1",
   "metadata": {},
   "source": [
    "| **Section**          | **Description**                                                                                                                                             |\n",
    "|----------------------|-------------------------------------------------------------------------------------------------------------------------------------------------------------|\n",
    "| **Dataset Quality**  | Does the dataset meet the length and complexity requirements(Unless previously cleared and discussed with insturctor)? Note that redundant datasets used in prior assignments result in an automatic 15% penalty.                                                                                               |\n",
    "| **Data Ingestion**   | Demonstrates a well-structured process using Python to import, explore, and clean the data.                                                                 |\n",
    "| **Data Cleanup**     | Clearly explains how data was cleaned (if necessary) to prepare it for analysis.                                                                            |\n",
    "| **Analysis**         | - Utilizes a variety of modules and functions to analyze the cleaned dataset.                                                                               |\n",
    "|                      | - You and your partner must provide at least six (6) insights derived from the analysis. (9 insights if a group of 3)                                                                   |\n",
    "|                      | - Insights should reveal something not initially obvious from the raw data.                                                                                 |\n",
    "|                      | - Present each insight with code execution, printed data tables, visuals, etc., and explain the process and significance.                                   |\n",
    "| **Conclusion**       | Synthesizes your insights to explain the overall story the data tells.                                                                                      |\n",
    "|                      | Discusses the importance of the data and general conclusions that can be drawn.                                                                             |\n",
    "| **Projection**       | Takes the analysis further by considering its application in a real-world context.                                                                          |\n",
    "|                      | Provides recommendations for stakeholders on how the findings can inform better, more informed decisions in the future.                                     |\n",
    "|----------------------|-------------------------------------------------------------------------------------------------------------------------------------------------------------|\n",
    "| **Overall Presentation Quality**                     | How descriptive your explanations in the file are and the verbal presentation piece.                                    |\n"
   ]
  }
 ],
 "metadata": {
  "kernelspec": {
   "display_name": "venv",
   "language": "python",
   "name": "python3"
  },
  "language_info": {
   "codemirror_mode": {
    "name": "ipython",
    "version": 3
   },
   "file_extension": ".py",
   "mimetype": "text/x-python",
   "name": "python",
   "nbconvert_exporter": "python",
   "pygments_lexer": "ipython3",
   "version": "3.10.8"
  }
 },
 "nbformat": 4,
 "nbformat_minor": 5
}
